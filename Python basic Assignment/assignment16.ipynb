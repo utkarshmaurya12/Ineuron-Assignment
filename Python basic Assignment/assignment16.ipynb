{
 "cells": [
  {
   "cell_type": "code",
   "execution_count": 1,
   "id": "672f29f7",
   "metadata": {},
   "outputs": [],
   "source": [
    "1.\n",
    "years_list = [1999,2000,2001,2002,2003,2004]"
   ]
  },
  {
   "cell_type": "code",
   "execution_count": 2,
   "id": "acc3e73a",
   "metadata": {},
   "outputs": [
    {
     "data": {
      "text/plain": [
       "2002"
      ]
     },
     "execution_count": 2,
     "metadata": {},
     "output_type": "execute_result"
    }
   ],
   "source": [
    "2.\n",
    "years_list[3]"
   ]
  },
  {
   "cell_type": "code",
   "execution_count": 3,
   "id": "589f008a",
   "metadata": {},
   "outputs": [
    {
     "data": {
      "text/plain": [
       "2004"
      ]
     },
     "execution_count": 3,
     "metadata": {},
     "output_type": "execute_result"
    }
   ],
   "source": [
    "3.\n",
    "years_list[-1]"
   ]
  },
  {
   "cell_type": "code",
   "execution_count": 4,
   "id": "4b11fb0c",
   "metadata": {},
   "outputs": [],
   "source": [
    "4.\n",
    "things = ['mozzarella', 'cinderella','salmonella']"
   ]
  },
  {
   "cell_type": "code",
   "execution_count": 5,
   "id": "60f2a39a",
   "metadata": {},
   "outputs": [
    {
     "data": {
      "text/plain": [
       "['mozzarella', 'Cindrella', 'salmonella']"
      ]
     },
     "execution_count": 5,
     "metadata": {},
     "output_type": "execute_result"
    }
   ],
   "source": [
    "5.\n",
    "for index in range(len(things)):\n",
    "    if things[index] == 'cinderella':\n",
    "        things[index] ='cindrella'.title()\n",
    "things\n",
    "Yes, it changed the element in the list."
   ]
  },
  {
   "cell_type": "code",
   "execution_count": 6,
   "id": "4bc2c8de",
   "metadata": {},
   "outputs": [],
   "source": [
    "6.\n",
    "surprise = ['Groucho','Chico','Harpo']"
   ]
  },
  {
   "cell_type": "code",
   "execution_count": 7,
   "id": "feec1dbc",
   "metadata": {},
   "outputs": [
    {
     "data": {
      "text/plain": [
       "'OPRAH'"
      ]
     },
     "execution_count": 7,
     "metadata": {},
     "output_type": "execute_result"
    }
   ],
   "source": [
    "7.\n",
    "surprise[-1].lower()[::-1].upper()"
   ]
  },
  {
   "cell_type": "code",
   "execution_count": 8,
   "id": "312d5605",
   "metadata": {},
   "outputs": [],
   "source": [
    "8.\n",
    "e2f = {'dog':'chien','cat':'chat','walrus':'morse'}"
   ]
  },
  {
   "cell_type": "code",
   "execution_count": 9,
   "id": "231851f3",
   "metadata": {},
   "outputs": [
    {
     "data": {
      "text/plain": [
       "'morse'"
      ]
     },
     "execution_count": 9,
     "metadata": {},
     "output_type": "execute_result"
    }
   ],
   "source": [
    "9.\n",
    "e2f['walrus']"
   ]
  },
  {
   "cell_type": "code",
   "execution_count": 10,
   "id": "66292cfd",
   "metadata": {},
   "outputs": [
    {
     "data": {
      "text/plain": [
       "{'chien': 'dog', 'chat': 'cat', 'morse': 'walrus'}"
      ]
     },
     "execution_count": 10,
     "metadata": {},
     "output_type": "execute_result"
    }
   ],
   "source": [
    "10.\n",
    "f2e = {y:x for x,y in e2f.items()}\n",
    "f2e"
   ]
  },
  {
   "cell_type": "code",
   "execution_count": 11,
   "id": "42ce098f",
   "metadata": {},
   "outputs": [
    {
     "data": {
      "text/plain": [
       "'dog'"
      ]
     },
     "execution_count": 11,
     "metadata": {},
     "output_type": "execute_result"
    }
   ],
   "source": [
    "11.\n",
    "f2e['chien']"
   ]
  },
  {
   "cell_type": "code",
   "execution_count": 12,
   "id": "59e96aef",
   "metadata": {},
   "outputs": [
    {
     "data": {
      "text/plain": [
       "{'cat', 'dog', 'walrus'}"
      ]
     },
     "execution_count": 12,
     "metadata": {},
     "output_type": "execute_result"
    }
   ],
   "source": [
    "12.\n",
    "set(e2f.keys())"
   ]
  },
  {
   "cell_type": "code",
   "execution_count": 13,
   "id": "a849e385",
   "metadata": {},
   "outputs": [],
   "source": [
    "13.\n",
    "life = {'animals':{'cats':['Henry','Grumpy','Lucy'],'octopi':{},'emus':{}},'plants':{},'other':{}}"
   ]
  },
  {
   "cell_type": "code",
   "execution_count": 14,
   "id": "d1a1eb1f",
   "metadata": {},
   "outputs": [
    {
     "data": {
      "text/plain": [
       "dict_keys(['animals', 'plants', 'other'])"
      ]
     },
     "execution_count": 14,
     "metadata": {},
     "output_type": "execute_result"
    }
   ],
   "source": [
    "14.\n",
    "life.keys()"
   ]
  },
  {
   "cell_type": "code",
   "execution_count": 15,
   "id": "8a7150a1",
   "metadata": {},
   "outputs": [
    {
     "data": {
      "text/plain": [
       "dict_keys(['cats', 'octopi', 'emus'])"
      ]
     },
     "execution_count": 15,
     "metadata": {},
     "output_type": "execute_result"
    }
   ],
   "source": [
    "15.\n",
    "life['animals'].keys()"
   ]
  },
  {
   "cell_type": "code",
   "execution_count": 16,
   "id": "38d6cd3c",
   "metadata": {},
   "outputs": [
    {
     "data": {
      "text/plain": [
       "['Henry', 'Grumpy', 'Lucy']"
      ]
     },
     "execution_count": 16,
     "metadata": {},
     "output_type": "execute_result"
    }
   ],
   "source": [
    "16.\n",
    "life['animals']['cats']"
   ]
  },
  {
   "cell_type": "code",
   "execution_count": null,
   "id": "2da3ee9f",
   "metadata": {},
   "outputs": [],
   "source": []
  }
 ],
 "metadata": {
  "kernelspec": {
   "display_name": "Python 3",
   "language": "python",
   "name": "python3"
  },
  "language_info": {
   "codemirror_mode": {
    "name": "ipython",
    "version": 3
   },
   "file_extension": ".py",
   "mimetype": "text/x-python",
   "name": "python",
   "nbconvert_exporter": "python",
   "pygments_lexer": "ipython3",
   "version": "3.8.8"
  }
 },
 "nbformat": 4,
 "nbformat_minor": 5
}
