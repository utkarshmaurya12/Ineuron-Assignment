{
 "cells": [
  {
   "cell_type": "code",
   "execution_count": null,
   "id": "75fb06d1",
   "metadata": {},
   "outputs": [],
   "source": [
    "1. No it is not included. We have to first install it using pip install PyInputPlus."
   ]
  },
  {
   "cell_type": "code",
   "execution_count": null,
   "id": "15c7baf6",
   "metadata": {},
   "outputs": [],
   "source": [
    "2. PyInputPlus is commonly imported with import pyinputplus as pypi so that we can enter a shorter name while calling the \n",
    "   functions from the module."
   ]
  },
  {
   "cell_type": "code",
   "execution_count": null,
   "id": "14d02222",
   "metadata": {},
   "outputs": [],
   "source": [
    "3. inputInt() accepts an integer value and returns an int value whereas inputFloat() accepts a float value and returns a\n",
    "   float value."
   ]
  },
  {
   "cell_type": "code",
   "execution_count": null,
   "id": "d4b8b90d",
   "metadata": {},
   "outputs": [],
   "source": [
    "4. We can use the inputNum() function in pyInputPlus and pass the parameters min = 0 and max = 99."
   ]
  },
  {
   "cell_type": "code",
   "execution_count": null,
   "id": "e125c751",
   "metadata": {},
   "outputs": [],
   "source": [
    "5. The allowRegexes and blockRegexes keyword arguments take a list of regular expression strings to determine what the\n",
    "   PyInputPlus function will accept or reject as valid input."
   ]
  },
  {
   "cell_type": "code",
   "execution_count": null,
   "id": "8698edc6",
   "metadata": {},
   "outputs": [],
   "source": [
    "6. The limit parameter is used to specify the maximum number of tries the user has. Here RetryLimitException is raised."
   ]
  },
  {
   "cell_type": "code",
   "execution_count": null,
   "id": "23adc463",
   "metadata": {},
   "outputs": [],
   "source": [
    "7. After the maximum number of tries have been exhausted, the default value 'hello' will be passed."
   ]
  }
 ],
 "metadata": {
  "kernelspec": {
   "display_name": "Python 3",
   "language": "python",
   "name": "python3"
  },
  "language_info": {
   "codemirror_mode": {
    "name": "ipython",
    "version": 3
   },
   "file_extension": ".py",
   "mimetype": "text/x-python",
   "name": "python",
   "nbconvert_exporter": "python",
   "pygments_lexer": "ipython3",
   "version": "3.8.8"
  }
 },
 "nbformat": 4,
 "nbformat_minor": 5
}
