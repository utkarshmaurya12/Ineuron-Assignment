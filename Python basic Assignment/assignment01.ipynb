{
 "cells": [
  {
   "cell_type": "markdown",
   "id": "8a95e366",
   "metadata": {},
   "source": [
    "1.\n",
    "(*) = Expression,\n",
    "'hello' = value,\n",
    "-87.8 = value,\n",
    "(-) = Expression,\n",
    "(/) = Expression,\n",
    "(+) = Expression,\n",
    "6 = value\n"
   ]
  },
  {
   "cell_type": "markdown",
   "id": "f0089156",
   "metadata": {},
   "source": [
    "2.\n",
    "A variable is used to hold data whereas a string is the value inside the double or single quotes."
   ]
  },
  {
   "cell_type": "markdown",
   "id": "6cca8d98",
   "metadata": {},
   "source": [
    "3.\n",
    "Three different data types are: int,list,dict.\n",
    "int - It is a numeric data type used to hold a positive or negative integer.\n",
    "list - It is similar to array in C++. It can contain elements of different data types.We can use slice operations to access the data of the list.Items are enclosed in [].\n",
    "dict - It is a dictionary which consists of a key value pair. It is like a hash table where each key stores a specific value.Items are enclosed in {}."
   ]
  },
  {
   "cell_type": "markdown",
   "id": "48eadaab",
   "metadata": {},
   "source": [
    "4.Expression is a combination of operators and operands to produce some value.All expressions evaluate to give a value."
   ]
  },
  {
   "cell_type": "markdown",
   "id": "501e617e",
   "metadata": {},
   "source": [
    "5.\n",
    "Expression consists of operators and operand to give a value whereas an statement is just a standalone unit of execution and does not return anything."
   ]
  },
  {
   "cell_type": "markdown",
   "id": "a9224465",
   "metadata": {},
   "source": [
    "6.\n",
    "22"
   ]
  },
  {
   "cell_type": "markdown",
   "id": "8e679c9b",
   "metadata": {},
   "source": [
    "7.\n",
    "spamspamspam\n",
    "spamspamspam"
   ]
  },
  {
   "cell_type": "markdown",
   "id": "39048318",
   "metadata": {},
   "source": [
    "8.\n",
    "Egg is a valid name whereas 100 is invalid because a variable name cannot start with a number. It can contain a number in it."
   ]
  },
  {
   "cell_type": "markdown",
   "id": "8ff2bdc3",
   "metadata": {},
   "source": [
    "9.\n",
    "int(),float(),str()"
   ]
  },
  {
   "cell_type": "markdown",
   "id": "2b68f680",
   "metadata": {},
   "source": [
    "10.\n",
    "This statement causes an error because we are trying to concatenate an integer to a string. We need to convert the integer to a string first.\n",
    "'I have eaten' + str(99) + 'burritos.'"
   ]
  }
 ],
 "metadata": {
  "kernelspec": {
   "display_name": "Python 3",
   "language": "python",
   "name": "python3"
  },
  "language_info": {
   "codemirror_mode": {
    "name": "ipython",
    "version": 3
   },
   "file_extension": ".py",
   "mimetype": "text/x-python",
   "name": "python",
   "nbconvert_exporter": "python",
   "pygments_lexer": "ipython3",
   "version": "3.8.8"
  }
 },
 "nbformat": 4,
 "nbformat_minor": 5
}
