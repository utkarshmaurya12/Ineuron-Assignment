{
 "cells": [
  {
   "cell_type": "code",
   "execution_count": null,
   "id": "8c587569",
   "metadata": {},
   "outputs": [],
   "source": [
    "1. \"\\\" is called the \"escape\" character. It is used in representing certain whitespace characters, for ex:\"\\t\" is a tab, \"\\n\"\n",
    "is a newline etc."
   ]
  },
  {
   "cell_type": "code",
   "execution_count": null,
   "id": "ef8ca5e9",
   "metadata": {},
   "outputs": [],
   "source": [
    "2. '\\n' is for newline whereas '\\t' is for tab."
   ]
  },
  {
   "cell_type": "code",
   "execution_count": null,
   "id": "ccda3d43",
   "metadata": {},
   "outputs": [],
   "source": [
    "3. Use double backlash \"\\\\\"."
   ]
  },
  {
   "cell_type": "code",
   "execution_count": null,
   "id": "d5819c06",
   "metadata": {},
   "outputs": [],
   "source": [
    "4. In python, both single quotes '' and double quotes \" \" are valid for representing a string value. But if single quotes are \n",
    "   used then they have to be used to start and end a string. Same is true for double quotes."
   ]
  },
  {
   "cell_type": "code",
   "execution_count": null,
   "id": "f6b34633",
   "metadata": {},
   "outputs": [],
   "source": [
    "5. For newline we can use os.linesep by importing the os module first."
   ]
  },
  {
   "cell_type": "code",
   "execution_count": null,
   "id": "ae3c4748",
   "metadata": {},
   "outputs": [],
   "source": [
    "6. e\n",
    "   Hello\n",
    "   Hello\n",
    "   lo, world!"
   ]
  },
  {
   "cell_type": "code",
   "execution_count": null,
   "id": "1fe5e63d",
   "metadata": {},
   "outputs": [],
   "source": [
    "7. HELLO\n",
    "   True\n",
    "   hello"
   ]
  },
  {
   "cell_type": "code",
   "execution_count": null,
   "id": "544b2e87",
   "metadata": {},
   "outputs": [],
   "source": [
    "8. ['Remember,', 'remember,', 'the', 'fifth', 'of', 'July.']\n",
    "   There-can-only-one."
   ]
  },
  {
   "cell_type": "code",
   "execution_count": null,
   "id": "31cff392",
   "metadata": {},
   "outputs": [],
   "source": [
    "9. The methods are ljust() for left justifying, rjust() for right justifying and center() for centering a string."
   ]
  },
  {
   "cell_type": "code",
   "execution_count": null,
   "id": "c65d20bb",
   "metadata": {},
   "outputs": [],
   "source": [
    "10. strip() is used to remove whitespace characters from start and end. rstrip() is used to remove right whitespace characters\n",
    "    whereas lstrip() is used to remove left whitespace characters()."
   ]
  }
 ],
 "metadata": {
  "kernelspec": {
   "display_name": "Python 3",
   "language": "python",
   "name": "python3"
  },
  "language_info": {
   "codemirror_mode": {
    "name": "ipython",
    "version": 3
   },
   "file_extension": ".py",
   "mimetype": "text/x-python",
   "name": "python",
   "nbconvert_exporter": "python",
   "pygments_lexer": "ipython3",
   "version": "3.8.8"
  }
 },
 "nbformat": 4,
 "nbformat_minor": 5
}
