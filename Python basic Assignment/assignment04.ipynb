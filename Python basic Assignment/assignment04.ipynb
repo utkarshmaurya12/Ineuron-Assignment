{
 "cells": [
  {
   "cell_type": "code",
   "execution_count": null,
   "id": "0eb91622",
   "metadata": {},
   "outputs": [],
   "source": [
    "1. [] is used to represent a list in python which can store elements of different data types."
   ]
  },
  {
   "cell_type": "code",
   "execution_count": null,
   "id": "22904221",
   "metadata": {},
   "outputs": [],
   "source": [
    "2. spam[2] = 'hello'"
   ]
  },
  {
   "cell_type": "code",
   "execution_count": null,
   "id": "9ef03fc7",
   "metadata": {},
   "outputs": [],
   "source": [
    "3. d"
   ]
  },
  {
   "cell_type": "code",
   "execution_count": null,
   "id": "5ad595ee",
   "metadata": {},
   "outputs": [],
   "source": [
    "4. d"
   ]
  },
  {
   "cell_type": "code",
   "execution_count": null,
   "id": "f4b2818f",
   "metadata": {},
   "outputs": [],
   "source": [
    "5. ['a','b']"
   ]
  },
  {
   "cell_type": "code",
   "execution_count": null,
   "id": "e9829225",
   "metadata": {},
   "outputs": [],
   "source": [
    "6. 1"
   ]
  },
  {
   "cell_type": "code",
   "execution_count": null,
   "id": "c3476c32",
   "metadata": {},
   "outputs": [],
   "source": [
    "7. [3.14, 'cat',11, 'cat', True,99]"
   ]
  },
  {
   "cell_type": "code",
   "execution_count": null,
   "id": "49dca8b5",
   "metadata": {},
   "outputs": [],
   "source": [
    "8. [3.14 ,11, 'cat', True,99]"
   ]
  },
  {
   "cell_type": "code",
   "execution_count": null,
   "id": "1d9e190f",
   "metadata": {},
   "outputs": [],
   "source": [
    "9. List concatenation operator is '+' whereas list replication operator is '*'."
   ]
  },
  {
   "cell_type": "code",
   "execution_count": null,
   "id": "1eeeccda",
   "metadata": {},
   "outputs": [],
   "source": [
    "10. append() is used to add an element to the end of the list whereas insert() is used to add an element at a specific position\n",
    "in the list."
   ]
  },
  {
   "cell_type": "code",
   "execution_count": null,
   "id": "0e3763e5",
   "metadata": {},
   "outputs": [],
   "source": [
    "11. pop() or remove() is used to remove items from a list."
   ]
  },
  {
   "cell_type": "code",
   "execution_count": null,
   "id": "47a3c037",
   "metadata": {},
   "outputs": [],
   "source": [
    "12. Both list and string values are sequences which can be accessed through indexing."
   ]
  },
  {
   "cell_type": "code",
   "execution_count": null,
   "id": "6d5a159f",
   "metadata": {},
   "outputs": [],
   "source": [
    "13. Tuples are represented by () brackets. The main property of a tuple is that they are immutable.\n",
    "    Lists are represented by [] brackets. Lists are mutable."
   ]
  },
  {
   "cell_type": "code",
   "execution_count": null,
   "id": "71429168",
   "metadata": {},
   "outputs": [],
   "source": [
    "14. (42,)"
   ]
  },
  {
   "cell_type": "code",
   "execution_count": null,
   "id": "0f5c1874",
   "metadata": {},
   "outputs": [],
   "source": [
    "15. To get a list values tuple form, pass it into the function tuple().\n",
    "    To get tuple values list form, pass it into the function list()."
   ]
  },
  {
   "cell_type": "code",
   "execution_count": null,
   "id": "9b550b44",
   "metadata": {},
   "outputs": [],
   "source": [
    "16. Variables will contain references to the list value. For integer and string values, the values are simply stored by the \n",
    "    variable."
   ]
  },
  {
   "cell_type": "code",
   "execution_count": null,
   "id": "13141b6f",
   "metadata": {},
   "outputs": [],
   "source": [
    "17. A shallow copy constructs a new compound object and then inserts references into it to the objects found in the original.\n",
    "    A deep copy constructs a new compound object and then, recursively, inserts copies into it of the objects found in the \n",
    "    original."
   ]
  }
 ],
 "metadata": {
  "kernelspec": {
   "display_name": "Python 3",
   "language": "python",
   "name": "python3"
  },
  "language_info": {
   "codemirror_mode": {
    "name": "ipython",
    "version": 3
   },
   "file_extension": ".py",
   "mimetype": "text/x-python",
   "name": "python",
   "nbconvert_exporter": "python",
   "pygments_lexer": "ipython3",
   "version": "3.8.8"
  }
 },
 "nbformat": 4,
 "nbformat_minor": 5
}
