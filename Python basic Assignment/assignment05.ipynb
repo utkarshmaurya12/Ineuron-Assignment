{
 "cells": [
  {
   "cell_type": "code",
   "execution_count": null,
   "id": "5ca9563a",
   "metadata": {},
   "outputs": [],
   "source": [
    "1. {}"
   ]
  },
  {
   "cell_type": "code",
   "execution_count": null,
   "id": "c59745c2",
   "metadata": {},
   "outputs": [],
   "source": [
    "2. 42"
   ]
  },
  {
   "cell_type": "code",
   "execution_count": null,
   "id": "6a7985c0",
   "metadata": {},
   "outputs": [],
   "source": [
    "3. Dictionaries contain a key-value pair in it while a list does not."
   ]
  },
  {
   "cell_type": "code",
   "execution_count": null,
   "id": "d01f93d6",
   "metadata": {},
   "outputs": [],
   "source": [
    "4. We will get a key error as there is only one key named 'bar'."
   ]
  },
  {
   "cell_type": "code",
   "execution_count": null,
   "id": "8815082f",
   "metadata": {},
   "outputs": [],
   "source": [
    "5. There is no difference."
   ]
  },
  {
   "cell_type": "code",
   "execution_count": null,
   "id": "325836c4",
   "metadata": {},
   "outputs": [],
   "source": [
    "6. 'cat' in spam checks whether there is a 'cat' key in the dictionary, while 'cat' in spam.values() checks whether there \n",
    "    is a value 'cat'."
   ]
  },
  {
   "cell_type": "code",
   "execution_count": null,
   "id": "9c16ab85",
   "metadata": {},
   "outputs": [],
   "source": [
    "7.  spam.setdefault('color', 'black')"
   ]
  },
  {
   "cell_type": "code",
   "execution_count": null,
   "id": "ce9fb169",
   "metadata": {},
   "outputs": [],
   "source": [
    "8. pprint module is used. Inside it, pprint() function is used."
   ]
  }
 ],
 "metadata": {
  "kernelspec": {
   "display_name": "Python 3",
   "language": "python",
   "name": "python3"
  },
  "language_info": {
   "codemirror_mode": {
    "name": "ipython",
    "version": 3
   },
   "file_extension": ".py",
   "mimetype": "text/x-python",
   "name": "python",
   "nbconvert_exporter": "python",
   "pygments_lexer": "ipython3",
   "version": "3.8.8"
  }
 },
 "nbformat": 4,
 "nbformat_minor": 5
}
