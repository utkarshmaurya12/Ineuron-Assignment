{
 "cells": [
  {
   "cell_type": "code",
   "execution_count": null,
   "id": "c2921b5b",
   "metadata": {},
   "outputs": [],
   "source": [
    "1.\n",
    "Both def statements and lambda statements create a function, but lambda statement create a one liner function with a single\n",
    "expression.Lambda function can be used without declaration in the namespace."
   ]
  },
  {
   "cell_type": "code",
   "execution_count": null,
   "id": "23ce4d26",
   "metadata": {},
   "outputs": [],
   "source": [
    "2.\n",
    "It gives a shortcut for creating short anonymous functions which behave just like a regular function.It can be used to write \n",
    "very concise code."
   ]
  },
  {
   "cell_type": "code",
   "execution_count": null,
   "id": "6630f345",
   "metadata": {},
   "outputs": [],
   "source": [
    "3.\n",
    "map(): iterates through all the items in the iterable and applies the function on each item.\n",
    "filter(): it takes an iterable and a function and forms a list based on a specific condition.\n",
    "reduce(): apply a particular function passed in its argument to all of the list elements to reduce it to a single value."
   ]
  },
  {
   "cell_type": "code",
   "execution_count": null,
   "id": "d0bbb9e0",
   "metadata": {},
   "outputs": [],
   "source": [
    "4.\n",
    "Function annotations provide a way of associating various parts of a function with arbitrary python expressions at compile time.\n",
    "Annotations can be fully implemented as decorators. You can just define an @annotate decorator for this."
   ]
  },
  {
   "cell_type": "code",
   "execution_count": null,
   "id": "f25da753",
   "metadata": {},
   "outputs": [],
   "source": [
    "5.\n",
    "A recursive function keeps on calling itself during its execution.They are used in loops and a base case is identified and a \n",
    "terminating condition."
   ]
  },
  {
   "cell_type": "code",
   "execution_count": null,
   "id": "e27d41b8",
   "metadata": {},
   "outputs": [],
   "source": [
    "6.\n",
    "PEP 8 is used as a guideline to write python code.\n",
    " 1) Use 4-space indentation and no tabs.\n",
    " 2) Use docstrings \n",
    " 3) Wrap lines so that they don’t exceed 79 characters\n",
    " 4) Use of regular and updated comments are valuable to both the coders and users"
   ]
  },
  {
   "cell_type": "code",
   "execution_count": null,
   "id": "a696f842",
   "metadata": {},
   "outputs": [],
   "source": [
    "7.\n",
    "The function can return the value to the caller.\n",
    "The function can print the value to the caller."
   ]
  }
 ],
 "metadata": {
  "kernelspec": {
   "display_name": "Python 3",
   "language": "python",
   "name": "python3"
  },
  "language_info": {
   "codemirror_mode": {
    "name": "ipython",
    "version": 3
   },
   "file_extension": ".py",
   "mimetype": "text/x-python",
   "name": "python",
   "nbconvert_exporter": "python",
   "pygments_lexer": "ipython3",
   "version": "3.8.8"
  }
 },
 "nbformat": 4,
 "nbformat_minor": 5
}
