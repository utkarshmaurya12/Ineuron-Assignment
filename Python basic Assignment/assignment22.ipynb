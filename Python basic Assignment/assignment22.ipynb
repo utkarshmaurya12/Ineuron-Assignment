{
 "cells": [
  {
   "cell_type": "code",
   "execution_count": 7,
   "id": "73d38d71",
   "metadata": {},
   "outputs": [],
   "source": [
    "1.\n",
    "iNeuron\n",
    "#Function is called and the value is returned."
   ]
  },
  {
   "cell_type": "code",
   "execution_count": null,
   "id": "2293198e",
   "metadata": {},
   "outputs": [],
   "source": [
    "2.\n",
    "iNeuron \n",
    "#X is already defined as a global variable and is printed."
   ]
  },
  {
   "cell_type": "code",
   "execution_count": null,
   "id": "ca9c9e1e",
   "metadata": {},
   "outputs": [],
   "source": [
    "3.\n",
    "NI\n",
    "iNeuron\n",
    "#X inside the function is printed as it has a local scope and when X is printed outside the function the global X is printed."
   ]
  },
  {
   "cell_type": "code",
   "execution_count": null,
   "id": "92c9560c",
   "metadata": {},
   "outputs": [],
   "source": [
    "4.\n",
    "NI\n",
    "#Here we use the global keyword to change the global variable X to NI."
   ]
  },
  {
   "cell_type": "code",
   "execution_count": null,
   "id": "2a1e6095",
   "metadata": {},
   "outputs": [],
   "source": [
    "5.\n",
    "NI\n",
    "iNeuron\n",
    "#NI from nested function is called and the value of X is printed."
   ]
  },
  {
   "cell_type": "code",
   "execution_count": null,
   "id": "3bd98051",
   "metadata": {},
   "outputs": [],
   "source": [
    "6.\n",
    "Spam\n",
    "#The value of X is changed to spam in nested() and called in the end."
   ]
  },
  {
   "cell_type": "code",
   "execution_count": null,
   "id": "e9495ed1",
   "metadata": {},
   "outputs": [],
   "source": []
  }
 ],
 "metadata": {
  "kernelspec": {
   "display_name": "Python 3",
   "language": "python",
   "name": "python3"
  },
  "language_info": {
   "codemirror_mode": {
    "name": "ipython",
    "version": 3
   },
   "file_extension": ".py",
   "mimetype": "text/x-python",
   "name": "python",
   "nbconvert_exporter": "python",
   "pygments_lexer": "ipython3",
   "version": "3.8.8"
  }
 },
 "nbformat": 4,
 "nbformat_minor": 5
}
