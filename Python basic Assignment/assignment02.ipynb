{
 "cells": [
  {
   "cell_type": "code",
   "execution_count": null,
   "id": "6366e0de",
   "metadata": {},
   "outputs": [],
   "source": [
    "1. Two values of the boolean data type are True and False."
   ]
  },
  {
   "cell_type": "code",
   "execution_count": null,
   "id": "e211a4ca",
   "metadata": {},
   "outputs": [],
   "source": [
    "2. Three types of boolean operators are and,or,not.'and' and 'or' needs two operands whereas 'not' only needs one."
   ]
  },
  {
   "cell_type": "code",
   "execution_count": null,
   "id": "efc1ba20",
   "metadata": {},
   "outputs": [],
   "source": [
    "3. and table                   or table                   not table  \n",
    "   X    Y      O/P             X    Y     O/P                X    O/P\n",
    "   0    0       0              0    0      0                 0     1\n",
    "   0    1       0              0    1      1                 1     0   \n",
    "   1    0       0              1    0      1\n",
    "   1    1       1              1    1      1"
   ]
  },
  {
   "cell_type": "code",
   "execution_count": null,
   "id": "c8f1bfe0",
   "metadata": {},
   "outputs": [],
   "source": [
    "4.  False\n",
    "    False\n",
    "    True\n",
    "    False\n",
    "    False\n",
    "    True"
   ]
  },
  {
   "cell_type": "code",
   "execution_count": null,
   "id": "f572f559",
   "metadata": {},
   "outputs": [],
   "source": [
    "5. The six comparison operators are:\n",
    "   >,<,<=,>=,==,!= "
   ]
  },
  {
   "cell_type": "code",
   "execution_count": null,
   "id": "f17c0547",
   "metadata": {},
   "outputs": [],
   "source": [
    "6. Equal to operator uses two '==' , whereas assignement operator uses one '='.\n",
    "   Equal to operator is used to compare two values. Ex: if a = 2, b= 3 then, a==b.\n",
    "   Assignment operator on the other hand is used to assign a value to a variable.Ex: s = 3"
   ]
  },
  {
   "cell_type": "code",
   "execution_count": null,
   "id": "206a0222",
   "metadata": {},
   "outputs": [],
   "source": [
    "7. \n",
    "spam = 0\n",
    "if spam == 10:\n",
    "    print('eggs')\n",
    "\n",
    "if spam > 5:\n",
    "    print('bacon')\n",
    "\n",
    "else:\n",
    "    print('ham')\n",
    "print('spam')\n",
    "print('spam')"
   ]
  },
  {
   "cell_type": "code",
   "execution_count": null,
   "id": "ed330e19",
   "metadata": {},
   "outputs": [],
   "source": [
    "8.\n",
    "if spam == 1:\n",
    "    print('Hello')\n",
    "elif spam == 2:\n",
    "    print('Howdy')\n",
    "else:\n",
    "    print('Greetings!')"
   ]
  },
  {
   "cell_type": "code",
   "execution_count": null,
   "id": "0c595825",
   "metadata": {},
   "outputs": [],
   "source": [
    "9. Ctrl + C is pressed to get out of an endless loop."
   ]
  },
  {
   "cell_type": "code",
   "execution_count": null,
   "id": "1a39d801",
   "metadata": {},
   "outputs": [],
   "source": [
    "10. break statement is used to exit an loop whereas a continue statement is used to force the next iteration of the loop."
   ]
  },
  {
   "cell_type": "code",
   "execution_count": null,
   "id": "ee2e50b4",
   "metadata": {},
   "outputs": [],
   "source": [
    "11. All the statements range(10),range(0,10),range(0,10,1) are the same.\n",
    "    range(10) runs from 0 - 10.\n",
    "    range(0,10) runs from 0 - 10.\n",
    "    range(0,10,1) runs from 0 - 10 with the step of 1."
   ]
  },
  {
   "cell_type": "code",
   "execution_count": 6,
   "id": "fe1387de",
   "metadata": {},
   "outputs": [
    {
     "name": "stdout",
     "output_type": "stream",
     "text": [
      "1\n",
      "2\n",
      "3\n",
      "4\n",
      "5\n",
      "6\n",
      "7\n",
      "8\n",
      "9\n",
      "10\n",
      "\n",
      "\n",
      "1\n",
      "2\n",
      "3\n",
      "4\n",
      "5\n",
      "6\n",
      "7\n",
      "8\n",
      "9\n",
      "10\n"
     ]
    }
   ],
   "source": [
    "12. \n",
    "for i in range(1,11):\n",
    "    print(i)\n",
    "print(\"\\n\")\n",
    "j = 1\n",
    "while j<11:\n",
    "    print(j)\n",
    "    j+=1"
   ]
  },
  {
   "cell_type": "code",
   "execution_count": null,
   "id": "5e69ebbf",
   "metadata": {},
   "outputs": [],
   "source": [
    "13. We can call the function inside a module by using a dot(.) operator along with the module name."
   ]
  }
 ],
 "metadata": {
  "kernelspec": {
   "display_name": "Python 3",
   "language": "python",
   "name": "python3"
  },
  "language_info": {
   "codemirror_mode": {
    "name": "ipython",
    "version": 3
   },
   "file_extension": ".py",
   "mimetype": "text/x-python",
   "name": "python",
   "nbconvert_exporter": "python",
   "pygments_lexer": "ipython3",
   "version": "3.8.8"
  }
 },
 "nbformat": 4,
 "nbformat_minor": 5
}
