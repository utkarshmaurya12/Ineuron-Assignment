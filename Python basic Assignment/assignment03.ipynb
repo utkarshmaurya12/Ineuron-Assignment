{
 "cells": [
  {
   "cell_type": "code",
   "execution_count": null,
   "id": "2808665c",
   "metadata": {},
   "outputs": [],
   "source": [
    "1. Functions are a block of code which is used to perform a specific task. We use a function so that instead of writing the\n",
    "same code again and again we can just call the function to reuse the code."
   ]
  },
  {
   "cell_type": "code",
   "execution_count": null,
   "id": "292e7e8e",
   "metadata": {},
   "outputs": [],
   "source": [
    "2. A code in a function is run when the function is called."
   ]
  },
  {
   "cell_type": "code",
   "execution_count": null,
   "id": "843a9d12",
   "metadata": {},
   "outputs": [],
   "source": [
    "3. To create a function, def keyword is used.Ex:\n",
    "   def functionName(parameters):"
   ]
  },
  {
   "cell_type": "code",
   "execution_count": null,
   "id": "b6c68828",
   "metadata": {},
   "outputs": [],
   "source": [
    "4.Functions are a block of code which is used to perform a specific task. It cannot be used by itself. \n",
    "  Function call means invoking the function to use it.You have to call the function to use it."
   ]
  },
  {
   "cell_type": "code",
   "execution_count": null,
   "id": "a6b0fe74",
   "metadata": {},
   "outputs": [],
   "source": [
    "5.There is only one global scope in a python program.Local scope is the code block or body of any python function."
   ]
  },
  {
   "cell_type": "code",
   "execution_count": null,
   "id": "4af36705",
   "metadata": {},
   "outputs": [],
   "source": [
    "6.When the function call returns, the local variables are destroyed."
   ]
  },
  {
   "cell_type": "code",
   "execution_count": null,
   "id": "8bdfecdb",
   "metadata": {},
   "outputs": [],
   "source": [
    "7. A return statement is used to end the execution of the function call and it returns the value to the caller. No return cannot\n",
    "be used outside an expression it must be inside the function."
   ]
  },
  {
   "cell_type": "code",
   "execution_count": null,
   "id": "9113485d",
   "metadata": {},
   "outputs": [],
   "source": [
    "8. The default return value is always None if it is not specified"
   ]
  },
  {
   "cell_type": "code",
   "execution_count": null,
   "id": "b66f0bca",
   "metadata": {},
   "outputs": [],
   "source": [
    "9. To make a function variable refer to the global variable, the keyword global is used."
   ]
  },
  {
   "cell_type": "code",
   "execution_count": null,
   "id": "77796bb4",
   "metadata": {},
   "outputs": [],
   "source": [
    "10. None is a object in python which is a datatype of its own, Nonetype."
   ]
  },
  {
   "cell_type": "code",
   "execution_count": null,
   "id": "29904521",
   "metadata": {},
   "outputs": [],
   "source": [
    "11. import areallyourpetsnamederic statement can access all the code or functons in it. You can then use it in another module."
   ]
  },
  {
   "cell_type": "code",
   "execution_count": null,
   "id": "5ed8b6c6",
   "metadata": {},
   "outputs": [],
   "source": [
    "12.\n",
    "import spam\n",
    "spam.bacon()"
   ]
  },
  {
   "cell_type": "code",
   "execution_count": null,
   "id": "cafc294a",
   "metadata": {},
   "outputs": [],
   "source": [
    "13. Error handling is used to prevent the program from crashing. In python try and except keywords are used."
   ]
  },
  {
   "cell_type": "code",
   "execution_count": null,
   "id": "0aac602e",
   "metadata": {},
   "outputs": [],
   "source": [
    "14. The try block lets you test a block of code for errors.\n",
    "    The except block lets you handle the error."
   ]
  }
 ],
 "metadata": {
  "kernelspec": {
   "display_name": "Python 3",
   "language": "python",
   "name": "python3"
  },
  "language_info": {
   "codemirror_mode": {
    "name": "ipython",
    "version": 3
   },
   "file_extension": ".py",
   "mimetype": "text/x-python",
   "name": "python",
   "nbconvert_exporter": "python",
   "pygments_lexer": "ipython3",
   "version": "3.8.8"
  }
 },
 "nbformat": 4,
 "nbformat_minor": 5
}
