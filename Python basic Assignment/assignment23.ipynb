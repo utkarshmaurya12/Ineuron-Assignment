{
 "cells": [
  {
   "cell_type": "code",
   "execution_count": null,
   "id": "199075f8",
   "metadata": {},
   "outputs": [],
   "source": [
    "1.\n",
    "1 2 8\n",
    "#As the values has been passed in the fucntion, the default values will not be considered."
   ]
  },
  {
   "cell_type": "code",
   "execution_count": null,
   "id": "29bea1ca",
   "metadata": {},
   "outputs": [],
   "source": [
    "2.\n",
    "1 2 3\n",
    "#The values are already passed in the function."
   ]
  },
  {
   "cell_type": "code",
   "execution_count": null,
   "id": "8892c659",
   "metadata": {},
   "outputs": [],
   "source": [
    "3.\n",
    "1 (2,3)\n",
    "#Value of a is passed and *pargs can take n number of arguments after that."
   ]
  },
  {
   "cell_type": "code",
   "execution_count": null,
   "id": "c8ad9460",
   "metadata": {},
   "outputs": [],
   "source": [
    "4.\n",
    "1 {'c': 3, 'b': 2}\n",
    "#Value of a is passed and **kargs maps a key to it's value."
   ]
  },
  {
   "cell_type": "code",
   "execution_count": null,
   "id": "714c1744",
   "metadata": {},
   "outputs": [],
   "source": [
    "5.\n",
    "1 5 6 5\n",
    "#Value of a,b and c is passed. Default value of d is accepted."
   ]
  },
  {
   "cell_type": "code",
   "execution_count": null,
   "id": "200aff0e",
   "metadata": {},
   "outputs": [],
   "source": [
    "6.\n",
    "(1, ['x'], {'a': 'y'})\n",
    "#Value of l is passed directly, value of m is defined in the function and the value n, key 'a' is given."
   ]
  },
  {
   "cell_type": "code",
   "execution_count": null,
   "id": "952b70fd",
   "metadata": {},
   "outputs": [],
   "source": []
  }
 ],
 "metadata": {
  "kernelspec": {
   "display_name": "Python 3",
   "language": "python",
   "name": "python3"
  },
  "language_info": {
   "codemirror_mode": {
    "name": "ipython",
    "version": 3
   },
   "file_extension": ".py",
   "mimetype": "text/x-python",
   "name": "python",
   "nbconvert_exporter": "python",
   "pygments_lexer": "ipython3",
   "version": "3.8.8"
  }
 },
 "nbformat": 4,
 "nbformat_minor": 5
}
