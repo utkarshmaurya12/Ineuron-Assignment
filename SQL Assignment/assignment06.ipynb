{
 "cells": [
  {
   "cell_type": "code",
   "execution_count": null,
   "id": "ff684dfd",
   "metadata": {},
   "outputs": [],
   "source": [
    "1.\n",
    "SELECT * from Worker WHERE year(JOINING_DATE) = 2014 AND month(JOINING_DATE) = 2;"
   ]
  },
  {
   "cell_type": "code",
   "execution_count": null,
   "id": "19e80a1c",
   "metadata": {},
   "outputs": [],
   "source": [
    "2.\n",
    "SELECT username, email, COUNT(*)\n",
    "FROM users\n",
    "GROUP BY username, email\n",
    "HAVING COUNT(*) > 1"
   ]
  },
  {
   "cell_type": "code",
   "execution_count": null,
   "id": "200d0bde",
   "metadata": {},
   "outputs": [],
   "source": [
    "3.\n",
    "DELETE FROM DETAILS WHERE WORKER_ID NOT IN (\n",
    "SELECT MAX(WORKER_ID) FROM WORKER GROUP BY WORKER_NAME,DEPT,CONTACT_NO)"
   ]
  }
 ],
 "metadata": {
  "kernelspec": {
   "display_name": "Python 3 (ipykernel)",
   "language": "python",
   "name": "python3"
  },
  "language_info": {
   "codemirror_mode": {
    "name": "ipython",
    "version": 3
   },
   "file_extension": ".py",
   "mimetype": "text/x-python",
   "name": "python",
   "nbconvert_exporter": "python",
   "pygments_lexer": "ipython3",
   "version": "3.9.12"
  }
 },
 "nbformat": 4,
 "nbformat_minor": 5
}
