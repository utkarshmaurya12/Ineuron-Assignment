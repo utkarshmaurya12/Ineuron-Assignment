{
 "cells": [
  {
   "cell_type": "code",
   "execution_count": null,
   "id": "953e217b",
   "metadata": {},
   "outputs": [],
   "source": [
    "1.\n",
    "SELECT t.First, t.Last\n",
    "FROM (SELECT *, Row_Number() OVER(ORDER BY First, Last) AS RowNumber FROM Table1) t\n",
    "WHERE t.RowNumber % 2 = 1"
   ]
  },
  {
   "cell_type": "code",
   "execution_count": null,
   "id": "835f490c",
   "metadata": {},
   "outputs": [],
   "source": [
    "2.\n",
    "CREATE TABLE new_table SELECT * FROM original_table;"
   ]
  }
 ],
 "metadata": {
  "kernelspec": {
   "display_name": "Python 3 (ipykernel)",
   "language": "python",
   "name": "python3"
  },
  "language_info": {
   "codemirror_mode": {
    "name": "ipython",
    "version": 3
   },
   "file_extension": ".py",
   "mimetype": "text/x-python",
   "name": "python",
   "nbconvert_exporter": "python",
   "pygments_lexer": "ipython3",
   "version": "3.9.12"
  }
 },
 "nbformat": 4,
 "nbformat_minor": 5
}
