{
 "cells": [
  {
   "cell_type": "code",
   "execution_count": null,
   "id": "63dc211d",
   "metadata": {},
   "outputs": [],
   "source": [
    "1.\n",
    "SELECT FIRST_NAME AS WORKER_NAME FROM WORKER;"
   ]
  },
  {
   "cell_type": "code",
   "execution_count": null,
   "id": "c9012481",
   "metadata": {},
   "outputs": [],
   "source": [
    "2.\n",
    "SELECT DISTINCT DEPARTMENT FROM WORKER;"
   ]
  },
  {
   "cell_type": "code",
   "execution_count": null,
   "id": "4c90fbff",
   "metadata": {},
   "outputs": [],
   "source": [
    "3.\n",
    "SELECT * FROM (\n",
    "SELECT * FROM WORKER ORDER BY WORKER_ID DESC LIMIT 5) sub \n",
    "ORDER BY WORKER_ID ASC;"
   ]
  }
 ],
 "metadata": {
  "kernelspec": {
   "display_name": "Python 3 (ipykernel)",
   "language": "python",
   "name": "python3"
  },
  "language_info": {
   "codemirror_mode": {
    "name": "ipython",
    "version": 3
   },
   "file_extension": ".py",
   "mimetype": "text/x-python",
   "name": "python",
   "nbconvert_exporter": "python",
   "pygments_lexer": "ipython3",
   "version": "3.9.12"
  }
 },
 "nbformat": 4,
 "nbformat_minor": 5
}
