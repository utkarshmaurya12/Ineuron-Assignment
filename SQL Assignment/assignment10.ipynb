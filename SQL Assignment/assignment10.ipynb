{
 "cells": [
  {
   "cell_type": "code",
   "execution_count": null,
   "id": "783c8c57",
   "metadata": {},
   "outputs": [],
   "source": [
    "1.\n",
    "SELECT salary FROM Employee e1 WHERE\n",
    "        4 = (SELECT COUNT(DISTINCT salary)FROM Employee e2 where e2.sal > e1.sal) "
   ]
  },
  {
   "cell_type": "code",
   "execution_count": null,
   "id": "eddde48a",
   "metadata": {},
   "outputs": [],
   "source": [
    "2.\n",
    "SELECT e1.Name, e1.id, e1.Salary\n",
    "FROM emp s1\n",
    "INNER JOIN emp s2 ON e1.Salary = e2.Salary AND e1.Name <> e2.Name"
   ]
  }
 ],
 "metadata": {
  "kernelspec": {
   "display_name": "Python 3 (ipykernel)",
   "language": "python",
   "name": "python3"
  },
  "language_info": {
   "codemirror_mode": {
    "name": "ipython",
    "version": 3
   },
   "file_extension": ".py",
   "mimetype": "text/x-python",
   "name": "python",
   "nbconvert_exporter": "python",
   "pygments_lexer": "ipython3",
   "version": "3.9.12"
  }
 },
 "nbformat": 4,
 "nbformat_minor": 5
}
