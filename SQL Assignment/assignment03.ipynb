{
 "cells": [
  {
   "cell_type": "code",
   "execution_count": null,
   "id": "5a18fc6a",
   "metadata": {},
   "outputs": [],
   "source": [
    "1.\n",
    "SELECT RTRIM(FIRST_NAME) FROM WORKER;"
   ]
  },
  {
   "cell_type": "code",
   "execution_count": null,
   "id": "055fbb15",
   "metadata": {},
   "outputs": [],
   "source": [
    "2.\n",
    "SELECT DISTINCT department, LENGTH(department) FROM WORKER;"
   ]
  },
  {
   "cell_type": "code",
   "execution_count": null,
   "id": "e1803229",
   "metadata": {},
   "outputs": [],
   "source": [
    "3.\n",
    "SELECT salary FROM Employee e1 WHERE N-1 = (SELECT COUNT(DISTINCT salary) FROM Employee e2 WHERE e2.salary > e1.salary)\n"
   ]
  }
 ],
 "metadata": {
  "kernelspec": {
   "display_name": "Python 3 (ipykernel)",
   "language": "python",
   "name": "python3"
  },
  "language_info": {
   "codemirror_mode": {
    "name": "ipython",
    "version": 3
   },
   "file_extension": ".py",
   "mimetype": "text/x-python",
   "name": "python",
   "nbconvert_exporter": "python",
   "pygments_lexer": "ipython3",
   "version": "3.9.12"
  }
 },
 "nbformat": 4,
 "nbformat_minor": 5
}
