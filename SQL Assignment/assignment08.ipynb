{
 "cells": [
  {
   "cell_type": "code",
   "execution_count": null,
   "id": "9ae2b24c",
   "metadata": {},
   "outputs": [],
   "source": [
    "1.\n",
    "SELECT  ID, NAME, AMOUNT\n",
    "   FROM CUSTOMERS\n",
    "   LEFT JOIN ORDERS\n",
    "   ON CUSTOMERS.ID = ORDERS.CUSTOMER_ID\n",
    "INTERSECT\n",
    "   SELECT  ID, NAME, AMOUNT\n",
    "   FROM CUSTOMERS\n",
    "   RIGHT JOIN ORDERS\n",
    "   ON CUSTOMERS.ID = ORDERS.CUSTOMER_ID;"
   ]
  },
  {
   "cell_type": "code",
   "execution_count": null,
   "id": "b30bb131",
   "metadata": {},
   "outputs": [],
   "source": [
    "2.\n",
    "SELECT t1.name\n",
    "FROM table1 t1\n",
    "LEFT JOIN table2 t2 ON t2.name = t1.name\n",
    "WHERE t2.name IS NULL"
   ]
  }
 ],
 "metadata": {
  "kernelspec": {
   "display_name": "Python 3 (ipykernel)",
   "language": "python",
   "name": "python3"
  },
  "language_info": {
   "codemirror_mode": {
    "name": "ipython",
    "version": 3
   },
   "file_extension": ".py",
   "mimetype": "text/x-python",
   "name": "python",
   "nbconvert_exporter": "python",
   "pygments_lexer": "ipython3",
   "version": "3.9.12"
  }
 },
 "nbformat": 4,
 "nbformat_minor": 5
}
