{
 "cells": [
  {
   "cell_type": "code",
   "execution_count": null,
   "id": "16b70d06",
   "metadata": {},
   "outputs": [],
   "source": [
    "1.\n",
    "SELECT *FROM WORKER ORDER BY SALARY DESC LIMIT 10;"
   ]
  },
  {
   "cell_type": "code",
   "execution_count": null,
   "id": "b992e4a0",
   "metadata": {},
   "outputs": [],
   "source": [
    "2.\n",
    "SELECT Salary FROM table_name ORDER BY Salary DESC limit 4,1;"
   ]
  }
 ],
 "metadata": {
  "kernelspec": {
   "display_name": "Python 3 (ipykernel)",
   "language": "python",
   "name": "python3"
  },
  "language_info": {
   "codemirror_mode": {
    "name": "ipython",
    "version": 3
   },
   "file_extension": ".py",
   "mimetype": "text/x-python",
   "name": "python",
   "nbconvert_exporter": "python",
   "pygments_lexer": "ipython3",
   "version": "3.9.12"
  }
 },
 "nbformat": 4,
 "nbformat_minor": 5
}
