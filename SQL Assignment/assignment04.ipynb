{
 "cells": [
  {
   "cell_type": "code",
   "execution_count": null,
   "id": "65d148cd",
   "metadata": {},
   "outputs": [],
   "source": [
    "1.\n",
    "SELECT REPLACE(first_name, \"a\", \"A\") FROM worker;"
   ]
  },
  {
   "cell_type": "code",
   "execution_count": null,
   "id": "6b07bf9a",
   "metadata": {},
   "outputs": [],
   "source": [
    "2.\n",
    "SELECT * FROM worker ORDER BY FIRST_NAME ASC, DEPARTMENT DESC;"
   ]
  },
  {
   "cell_type": "code",
   "execution_count": null,
   "id": "e976654a",
   "metadata": {},
   "outputs": [],
   "source": [
    "3.\n",
    "SELECT FIRST_NAME FROM Worker WHERE SALARY = (SELECT max(SALARY) FROM Worker)"
   ]
  }
 ],
 "metadata": {
  "kernelspec": {
   "display_name": "Python 3 (ipykernel)",
   "language": "python",
   "name": "python3"
  },
  "language_info": {
   "codemirror_mode": {
    "name": "ipython",
    "version": 3
   },
   "file_extension": ".py",
   "mimetype": "text/x-python",
   "name": "python",
   "nbconvert_exporter": "python",
   "pygments_lexer": "ipython3",
   "version": "3.9.12"
  }
 },
 "nbformat": 4,
 "nbformat_minor": 5
}
