{
 "cells": [
  {
   "cell_type": "code",
   "execution_count": null,
   "id": "b36c0eba",
   "metadata": {},
   "outputs": [],
   "source": [
    "1.\n",
    "SELECT SUBSTRING(FIRST_NAME,1,3) FROM WORKER;"
   ]
  },
  {
   "cell_type": "code",
   "execution_count": null,
   "id": "f6e70692",
   "metadata": {},
   "outputs": [],
   "source": [
    "2.\n",
    "SELECT INSTR(FIRST_NAME, BINARY'a') FROM WORKER WHERE FIRST_NAME = 'Amitabh';"
   ]
  },
  {
   "cell_type": "code",
   "execution_count": null,
   "id": "02e772d8",
   "metadata": {},
   "outputs": [],
   "source": [
    "3.\n",
    "SELECT EmpName FROM EmpDetails WHERE (DeptID,Salary) IN (SELECT DeptID, MAX(Salary) FROM EmpDetails GROUP BY DeptID)"
   ]
  }
 ],
 "metadata": {
  "kernelspec": {
   "display_name": "Python 3 (ipykernel)",
   "language": "python",
   "name": "python3"
  },
  "language_info": {
   "codemirror_mode": {
    "name": "ipython",
    "version": 3
   },
   "file_extension": ".py",
   "mimetype": "text/x-python",
   "name": "python",
   "nbconvert_exporter": "python",
   "pygments_lexer": "ipython3",
   "version": "3.9.12"
  }
 },
 "nbformat": 4,
 "nbformat_minor": 5
}
