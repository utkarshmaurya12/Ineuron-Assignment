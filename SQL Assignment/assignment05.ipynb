{
 "cells": [
  {
   "cell_type": "code",
   "execution_count": null,
   "id": "87235c03",
   "metadata": {},
   "outputs": [],
   "source": [
    "1.\n",
    "SELECT * FROM worker WHERE FIRST_NAME NOT IN (\"Vipul\", \"Satish\");"
   ]
  },
  {
   "cell_type": "code",
   "execution_count": null,
   "id": "83e76079",
   "metadata": {},
   "outputs": [],
   "source": [
    "2.\n",
    "SELECT * FROM worker WHERE FIRST_NAME LIKE \"_____h\""
   ]
  },
  {
   "cell_type": "code",
   "execution_count": null,
   "id": "e5920630",
   "metadata": {},
   "outputs": [],
   "source": [
    "3.\n",
    "SELECT * FROM worker WHERE email LIKE '%@gmail.com';"
   ]
  }
 ],
 "metadata": {
  "kernelspec": {
   "display_name": "Python 3 (ipykernel)",
   "language": "python",
   "name": "python3"
  },
  "language_info": {
   "codemirror_mode": {
    "name": "ipython",
    "version": 3
   },
   "file_extension": ".py",
   "mimetype": "text/x-python",
   "name": "python",
   "nbconvert_exporter": "python",
   "pygments_lexer": "ipython3",
   "version": "3.9.12"
  }
 },
 "nbformat": 4,
 "nbformat_minor": 5
}
