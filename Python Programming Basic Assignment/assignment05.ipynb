{
 "cells": [
  {
   "cell_type": "code",
   "execution_count": 1,
   "id": "be1f744f",
   "metadata": {},
   "outputs": [
    {
     "name": "stdout",
     "output_type": "stream",
     "text": [
      "Enter num1:14\n",
      "Enter num2:12\n",
      "The LCM is: 84\n"
     ]
    }
   ],
   "source": [
    "1.\n",
    "num1 = int(input(\"Enter num1:\"))\n",
    "num2 = int(input(\"Enter num2:\"))\n",
    "if num1 > num2:\n",
    "    greater = num1\n",
    "else:\n",
    "    greater = num2\n",
    "while(True):\n",
    "    if greater % num1 == 0 and greater % num2 == 0:\n",
    "        lcm = greater\n",
    "        break\n",
    "    greater += 1\n",
    "print(f\"The LCM is: {lcm}\")\n",
    "        "
   ]
  },
  {
   "cell_type": "code",
   "execution_count": 2,
   "id": "f4e7a4ce",
   "metadata": {},
   "outputs": [
    {
     "name": "stdout",
     "output_type": "stream",
     "text": [
      "Enter num1:14\n",
      "Enter num2:12\n",
      "The HCF is 2\n"
     ]
    }
   ],
   "source": [
    "2.\n",
    "num1 = int(input(\"Enter num1:\"))\n",
    "num2 = int(input(\"Enter num2:\"))\n",
    "if num1 < num2:\n",
    "    smaller = num1\n",
    "else:\n",
    "    smaller = num2\n",
    "for i in range(1,smaller + 1):\n",
    "    if num1 % i == 0 and num2 % i == 0:\n",
    "        hcf = i\n",
    "print(f\"The HCF is {hcf}\")"
   ]
  },
  {
   "cell_type": "code",
   "execution_count": 3,
   "id": "4205513e",
   "metadata": {},
   "outputs": [
    {
     "name": "stdout",
     "output_type": "stream",
     "text": [
      "Enter decimal value: 10\n",
      "The decimal value of 10 is:\n",
      "0b1010 in binary\n",
      "0o12 in octal\n",
      "0xa in hexadecimal\n"
     ]
    }
   ],
   "source": [
    "3.\n",
    "dec = int(input('Enter decimal value: '))\n",
    "print(\"The decimal value of\", dec, \"is:\")\n",
    "print(bin(dec), \"in binary\")\n",
    "print(oct(dec), \"in octal\")\n",
    "print(hex(dec), \"in hexadecimal\")"
   ]
  },
  {
   "cell_type": "code",
   "execution_count": 4,
   "id": "de52de72",
   "metadata": {},
   "outputs": [
    {
     "name": "stdout",
     "output_type": "stream",
     "text": [
      "Enter a character: b\n",
      "The ASCII value of b is 98\n"
     ]
    }
   ],
   "source": [
    "4.\n",
    "char = input(\"Enter a character: \")\n",
    "print(f\"The ASCII value of {char} is {ord(char)}\")"
   ]
  },
  {
   "cell_type": "code",
   "execution_count": 5,
   "id": "e6f41aac",
   "metadata": {},
   "outputs": [
    {
     "name": "stdout",
     "output_type": "stream",
     "text": [
      "Enter num1:6\n",
      "Enter num2: 7\n",
      "Enter the operation: +,-,*,/ : *\n",
      "The product is 42\n"
     ]
    }
   ],
   "source": [
    "5. \n",
    "num1 = int(input(\"Enter num1:\"))\n",
    "num2 = int(input(\"Enter num2: \"))\n",
    "operation = input(\"Enter the operation: +,-,*,/ : \")\n",
    "if operation == '+':\n",
    "    print(f\"The sum is {num1+num2}\")\n",
    "elif operation == '-':\n",
    "    print(f\"The difference is {num1-num2}\")\n",
    "elif operation == '*':\n",
    "    print(f\"The product is {num1*num2}\")\n",
    "elif operation == '/':\n",
    "    print(f\"The division is {num1/num2}\")\n",
    "else:\n",
    "    print('Invalid operation')\n",
    "    "
   ]
  },
  {
   "cell_type": "code",
   "execution_count": null,
   "id": "0ccdeb6d",
   "metadata": {},
   "outputs": [],
   "source": []
  }
 ],
 "metadata": {
  "kernelspec": {
   "display_name": "Python 3",
   "language": "python",
   "name": "python3"
  },
  "language_info": {
   "codemirror_mode": {
    "name": "ipython",
    "version": 3
   },
   "file_extension": ".py",
   "mimetype": "text/x-python",
   "name": "python",
   "nbconvert_exporter": "python",
   "pygments_lexer": "ipython3",
   "version": "3.8.8"
  }
 },
 "nbformat": 4,
 "nbformat_minor": 5
}
