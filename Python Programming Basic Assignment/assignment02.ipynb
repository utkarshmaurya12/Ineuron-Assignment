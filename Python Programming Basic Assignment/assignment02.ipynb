{
 "cells": [
  {
   "cell_type": "code",
   "execution_count": 1,
   "id": "a54e643a",
   "metadata": {},
   "outputs": [
    {
     "name": "stdout",
     "output_type": "stream",
     "text": [
      "Enter value in kilometers: 30\n",
      "Value in miles: 18.64113\n"
     ]
    }
   ],
   "source": [
    "1.\n",
    "km = float(input(\"Enter value in kilometers: \"))\n",
    "conv_fac = 0.621371\n",
    "miles = km * conv_fac\n",
    "print(f\"Value in miles: {miles}\")"
   ]
  },
  {
   "cell_type": "code",
   "execution_count": 2,
   "id": "44693f67",
   "metadata": {},
   "outputs": [
    {
     "name": "stdout",
     "output_type": "stream",
     "text": [
      "Enter value in celsius: 37\n",
      "Value in fahrenheit: 98.60000000000001\n"
     ]
    }
   ],
   "source": [
    "2.\n",
    "celsius = float(input(\"Enter value in celsius: \"))\n",
    "fahrenheit = (celsius * 1.8) + 32\n",
    "print(f\"Value in fahrenheit: {fahrenheit}\")"
   ]
  },
  {
   "cell_type": "code",
   "execution_count": 3,
   "id": "52a94ee1",
   "metadata": {},
   "outputs": [
    {
     "name": "stdout",
     "output_type": "stream",
     "text": [
      "Enter year: 2022\n",
      "Enter month: 2\n",
      "   February 2022\n",
      "Mo Tu We Th Fr Sa Su\n",
      "    1  2  3  4  5  6\n",
      " 7  8  9 10 11 12 13\n",
      "14 15 16 17 18 19 20\n",
      "21 22 23 24 25 26 27\n",
      "28\n",
      "\n"
     ]
    }
   ],
   "source": [
    "3.\n",
    "import calendar\n",
    "yy = int(input(\"Enter year: \"))\n",
    "mm = int(input(\"Enter month: \"))\n",
    "print(calendar.month(yy, mm))"
   ]
  },
  {
   "cell_type": "code",
   "execution_count": 4,
   "id": "78eda6a5",
   "metadata": {},
   "outputs": [
    {
     "name": "stdout",
     "output_type": "stream",
     "text": [
      "The solution are (-3+0j) and (-2+0j)\n"
     ]
    }
   ],
   "source": [
    "4.\n",
    "import cmath\n",
    "a = 1\n",
    "b = 5\n",
    "c = 6\n",
    "d = (b**2) - (4*a*c)\n",
    "v1 = (-b-cmath.sqrt(d))/(2*a)\n",
    "v2 = (-b+cmath.sqrt(d))/(2*a)\n",
    "print('The solution are {0} and {1}'.format(v1,v2))"
   ]
  },
  {
   "cell_type": "code",
   "execution_count": 5,
   "id": "7cde547d",
   "metadata": {},
   "outputs": [
    {
     "name": "stdout",
     "output_type": "stream",
     "text": [
      "4\n",
      "5\n",
      "Value of a and b is 4,5\n",
      "Value of a and b after swapping is 5,4\n"
     ]
    }
   ],
   "source": [
    "5.\n",
    "a = int(input())\n",
    "b = int(input())\n",
    "print(f\"Value of a and b is {a},{b}\")\n",
    "a = a + b\n",
    "b = a - b\n",
    "a = a - b \n",
    "print(f\"Value of a and b after swapping is {a},{b}\")"
   ]
  },
  {
   "cell_type": "code",
   "execution_count": null,
   "id": "c115c0a1",
   "metadata": {},
   "outputs": [],
   "source": []
  }
 ],
 "metadata": {
  "kernelspec": {
   "display_name": "Python 3",
   "language": "python",
   "name": "python3"
  },
  "language_info": {
   "codemirror_mode": {
    "name": "ipython",
    "version": 3
   },
   "file_extension": ".py",
   "mimetype": "text/x-python",
   "name": "python",
   "nbconvert_exporter": "python",
   "pygments_lexer": "ipython3",
   "version": "3.8.8"
  }
 },
 "nbformat": 4,
 "nbformat_minor": 5
}
