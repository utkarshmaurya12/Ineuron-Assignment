{
 "cells": [
  {
   "cell_type": "code",
   "execution_count": 17,
   "id": "92fafc5c",
   "metadata": {},
   "outputs": [
    {
     "name": "stdout",
     "output_type": "stream",
     "text": [
      "Enter a value: 9\n",
      "0\n",
      "1\n",
      "1\n",
      "2\n",
      "3\n",
      "5\n",
      "8\n",
      "13\n",
      "21\n"
     ]
    }
   ],
   "source": [
    "1.\n",
    "def recursion(val):\n",
    "    if val == 0:\n",
    "        return 0\n",
    "    elif val == 1:\n",
    "        return 1\n",
    "    else:\n",
    "        return recursion(val - 1) + recursion(val - 2)\n",
    "num = int(input(\"Enter a value: \"))\n",
    "for i in range(num):\n",
    "    print(recursion(i))"
   ]
  },
  {
   "cell_type": "code",
   "execution_count": 20,
   "id": "0732414a",
   "metadata": {},
   "outputs": [
    {
     "name": "stdout",
     "output_type": "stream",
     "text": [
      "Enter a value: 3\n",
      "6\n"
     ]
    }
   ],
   "source": [
    "2.\n",
    "def factorial(num):\n",
    "    if num == 1:\n",
    "        return 1\n",
    "    else:\n",
    "        fact = num * factorial(num - 1)\n",
    "    return fact\n",
    "num = int(input(\"Enter a value: \"))\n",
    "a = factorial(num)\n",
    "print(a)"
   ]
  },
  {
   "cell_type": "code",
   "execution_count": 22,
   "id": "7dd971fd",
   "metadata": {},
   "outputs": [
    {
     "name": "stdout",
     "output_type": "stream",
     "text": [
      "Input your height in Feet: 6\n",
      "Input your weight in Kilogram: 63\n",
      "Your BMI is:  1.75\n"
     ]
    }
   ],
   "source": [
    "3.\n",
    "height = float(input(\"Input your height in Feet: \"))\n",
    "weight = float(input(\"Input your weight in Kilogram: \"))\n",
    "print(\"Your BMI is: \", round(weight / (height * height), 2))"
   ]
  },
  {
   "cell_type": "code",
   "execution_count": 23,
   "id": "d5b8ab49",
   "metadata": {},
   "outputs": [
    {
     "name": "stdout",
     "output_type": "stream",
     "text": [
      "Enter a number: 3\n"
     ]
    },
    {
     "data": {
      "text/plain": [
       "1.0986122886681098"
      ]
     },
     "execution_count": 23,
     "metadata": {},
     "output_type": "execute_result"
    }
   ],
   "source": [
    "4.\n",
    "import math\n",
    "num = int(input('Enter a number: '))\n",
    "math.log(num)"
   ]
  },
  {
   "cell_type": "code",
   "execution_count": 27,
   "id": "9c7b060d",
   "metadata": {},
   "outputs": [
    {
     "name": "stdout",
     "output_type": "stream",
     "text": [
      "Enter a number: 6\n",
      "The cube sum is: 441\n"
     ]
    }
   ],
   "source": [
    "5.\n",
    "num = int(input('Enter a number: '))\n",
    "sum = 0\n",
    "for i in range(1,num + 1):\n",
    "    sum = sum + (i*i*i)\n",
    "print(f\"The cube sum is: {sum}\")"
   ]
  },
  {
   "cell_type": "code",
   "execution_count": null,
   "id": "3c0273fd",
   "metadata": {},
   "outputs": [],
   "source": []
  }
 ],
 "metadata": {
  "kernelspec": {
   "display_name": "Python 3",
   "language": "python",
   "name": "python3"
  },
  "language_info": {
   "codemirror_mode": {
    "name": "ipython",
    "version": 3
   },
   "file_extension": ".py",
   "mimetype": "text/x-python",
   "name": "python",
   "nbconvert_exporter": "python",
   "pygments_lexer": "ipython3",
   "version": "3.8.8"
  }
 },
 "nbformat": 4,
 "nbformat_minor": 5
}
