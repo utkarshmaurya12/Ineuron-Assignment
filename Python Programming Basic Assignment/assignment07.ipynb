{
 "cells": [
  {
   "cell_type": "code",
   "execution_count": 7,
   "id": "7b700991",
   "metadata": {},
   "outputs": [
    {
     "name": "stdout",
     "output_type": "stream",
     "text": [
      "Number of elements you want: 4\n",
      "1\n",
      "1\n",
      "1\n",
      "1\n",
      "The sum of the elements of array is: 4\n"
     ]
    }
   ],
   "source": [
    "1.\n",
    "ele = []\n",
    "num = int(input('Number of elements you want: '))\n",
    "for i in range(num):\n",
    "    ele.append(int(input()))\n",
    "sum = 0\n",
    "for i in ele:\n",
    "    sum += i\n",
    "print(f\"The sum of the elements of array is: {sum}\")"
   ]
  },
  {
   "cell_type": "code",
   "execution_count": 8,
   "id": "8c278b67",
   "metadata": {},
   "outputs": [
    {
     "name": "stdout",
     "output_type": "stream",
     "text": [
      "Number of elements you want: 5\n",
      "1\n",
      "2\n",
      "3\n",
      "4\n",
      "5\n",
      "The largest value is 5\n"
     ]
    }
   ],
   "source": [
    "2.\n",
    "ele = []\n",
    "num = int(input('Number of elements you want: '))\n",
    "for i in range(num):\n",
    "    ele.append(int(input()))\n",
    "largest = 0\n",
    "for j in ele:\n",
    "    if j > largest:\n",
    "        largest = j\n",
    "print(f\"The largest value is {largest}\")"
   ]
  },
  {
   "cell_type": "code",
   "execution_count": 8,
   "id": "530164f3",
   "metadata": {},
   "outputs": [
    {
     "name": "stdout",
     "output_type": "stream",
     "text": [
      "Number of elements you want: 3\n",
      "1\n",
      "2\n",
      "3\n",
      "How many rotations: 3\n",
      "[1, 2, 3]\n"
     ]
    }
   ],
   "source": [
    "3.\n",
    "ele = []\n",
    "num = int(input('Number of elements you want: '))\n",
    "for i in range(num):\n",
    "    ele.append(int(input()))\n",
    "rot = int(input('How many rotations: '))  \n",
    "front = ele[-rot:]\n",
    "end = ele[:len(ele) - rot]\n",
    "for val in end:\n",
    "    front.append(val)\n",
    "print(front)\n"
   ]
  },
  {
   "cell_type": "code",
   "execution_count": 12,
   "id": "c09d8fc9",
   "metadata": {},
   "outputs": [
    {
     "name": "stdout",
     "output_type": "stream",
     "text": [
      "Number of elements you want: 6\n",
      "1\n",
      "2\n",
      "3\n",
      "4\n",
      "5\n",
      "6\n",
      "Splitting position: 2\n",
      "[3, 4, 5, 6, 1, 2]\n"
     ]
    }
   ],
   "source": [
    "4.\n",
    "ele = []\n",
    "num = int(input('Number of elements you want: '))\n",
    "for i in range(num):\n",
    "    ele.append(int(input()))\n",
    "pos = int(input('Splitting position: '))\n",
    "front = ele[:pos]\n",
    "print(ele[pos::]+front[::])\n"
   ]
  },
  {
   "cell_type": "code",
   "execution_count": 29,
   "id": "70ac634f",
   "metadata": {},
   "outputs": [
    {
     "name": "stdout",
     "output_type": "stream",
     "text": [
      "Number of elements you want: 5\n",
      "1\n",
      "2\n",
      "3\n",
      "0\n",
      "2\n",
      "False\n"
     ]
    }
   ],
   "source": [
    "5.\n",
    "def isMonotonic(A):\n",
    "    return (all(A[i] <= A[i + 1] for i in range(len(A) - 1)) or\n",
    "      all(A[i] >= A[i + 1] for i in range(len(A) - 1)))\n",
    "\n",
    "A = []\n",
    "num = int(input('Number of elements you want: '))\n",
    "for i in range(num):\n",
    "    A.append(int(input()))\n",
    "print(isMonotonic(A))"
   ]
  },
  {
   "cell_type": "markdown",
   "id": "d311cd25",
   "metadata": {},
   "source": [
    "\n"
   ]
  }
 ],
 "metadata": {
  "kernelspec": {
   "display_name": "Python 3",
   "language": "python",
   "name": "python3"
  },
  "language_info": {
   "codemirror_mode": {
    "name": "ipython",
    "version": 3
   },
   "file_extension": ".py",
   "mimetype": "text/x-python",
   "name": "python",
   "nbconvert_exporter": "python",
   "pygments_lexer": "ipython3",
   "version": "3.8.8"
  }
 },
 "nbformat": 4,
 "nbformat_minor": 5
}
