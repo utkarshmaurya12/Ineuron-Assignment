{
 "cells": [
  {
   "cell_type": "code",
   "execution_count": 1,
   "id": "b48000fd",
   "metadata": {},
   "outputs": [
    {
     "name": "stdout",
     "output_type": "stream",
     "text": [
      "Enter the length of k: 5\n",
      " brother\n"
     ]
    }
   ],
   "source": [
    "1.\n",
    "str1 = \"hello today is a good day brother\"\n",
    "l = [words for words in str1.split()]\n",
    "k = int(input('Enter the length of k: '))\n",
    "new_str = ''\n",
    "for val in l:\n",
    "    if len(val) > k:\n",
    "        new_str = new_str +\" \"+ val\n",
    "print(new_str)\n",
    "        \n"
   ]
  },
  {
   "cell_type": "code",
   "execution_count": 2,
   "id": "2b348a09",
   "metadata": {},
   "outputs": [
    {
     "name": "stdout",
     "output_type": "stream",
     "text": [
      "Enter the value of i: 6\n",
      "senbozakura\n"
     ]
    }
   ],
   "source": [
    "2.\n",
    "a = \"senbonzakura\" \n",
    "i = int(input('Enter the value of i: '))\n",
    "new_str = a[:i-1] + a[i:]\n",
    "print(new_str)"
   ]
  },
  {
   "cell_type": "code",
   "execution_count": 3,
   "id": "6e8d70c7",
   "metadata": {},
   "outputs": [
    {
     "name": "stdout",
     "output_type": "stream",
     "text": [
      "['Vlad', 'the', 'impaler']\n",
      "Vlad-the-impaler\n"
     ]
    }
   ],
   "source": [
    "3.\n",
    "str1 = 'Vlad the impaler'\n",
    "l1 = [words for words in str1.split()]\n",
    "print(l1)\n",
    "joined = '-'.join(l1)\n",
    "print(joined)"
   ]
  },
  {
   "cell_type": "code",
   "execution_count": 4,
   "id": "0dc6205d",
   "metadata": {},
   "outputs": [
    {
     "name": "stdout",
     "output_type": "stream",
     "text": [
      "No\n"
     ]
    }
   ],
   "source": [
    "4.\n",
    "a = {'0','1'}\n",
    "b = \"001301010001010\"\n",
    "string = set(b)\n",
    "if string == a or string == {'0'} or string == {'1'}:\n",
    "    print('Yes')\n",
    "else:\n",
    "    print('No')"
   ]
  },
  {
   "cell_type": "code",
   "execution_count": 5,
   "id": "3c09e940",
   "metadata": {},
   "outputs": [
    {
     "name": "stdout",
     "output_type": "stream",
     "text": [
      " apple grapes fruits\n"
     ]
    }
   ],
   "source": [
    "5.\n",
    "uc = ''\n",
    "a = \"apple banana mango grapes\" \n",
    "b = \"banana fruits mango\"\n",
    "l1 = a.split()\n",
    "l2 = b.split()\n",
    "for val1 in l1:\n",
    "    if val1 not in l2:\n",
    "        uc = uc +\" \"+ val1\n",
    "for val2 in l2:\n",
    "    if val2 not in l1:\n",
    "        uc = uc +\" \"+ val2\n",
    "print(uc)"
   ]
  },
  {
   "cell_type": "code",
   "execution_count": 6,
   "id": "e06341a6",
   "metadata": {},
   "outputs": [
    {
     "name": "stdout",
     "output_type": "stream",
     "text": [
      "{'m', 'a', 'l'}\n"
     ]
    }
   ],
   "source": [
    "6.\n",
    "a = 'malayalam'\n",
    "b = []\n",
    "count = 0\n",
    "for char in a:\n",
    "    if a.count(char) > 1:\n",
    "        b.append(char)\n",
    "print(set(b))"
   ]
  },
  {
   "cell_type": "code",
   "execution_count": 7,
   "id": "e047e846",
   "metadata": {},
   "outputs": [
    {
     "name": "stdout",
     "output_type": "stream",
     "text": [
      "Contains special character\n"
     ]
    }
   ],
   "source": [
    "7.\n",
    "special = '[@_!#$%^&*()<>?/\\|}{~:]'\n",
    "count = 0\n",
    "char = 'today$ is a $good @day'\n",
    "for letters in char:\n",
    "    if letters in special:\n",
    "        count += 1\n",
    "    else:\n",
    "        continue\n",
    "\n",
    "if count > 0:\n",
    "    print('Contains special character')\n",
    "else:\n",
    "    print('No special character')\n",
    "        "
   ]
  },
  {
   "cell_type": "code",
   "execution_count": null,
   "id": "5c3718f1",
   "metadata": {},
   "outputs": [],
   "source": []
  }
 ],
 "metadata": {
  "kernelspec": {
   "display_name": "Python 3",
   "language": "python",
   "name": "python3"
  },
  "language_info": {
   "codemirror_mode": {
    "name": "ipython",
    "version": 3
   },
   "file_extension": ".py",
   "mimetype": "text/x-python",
   "name": "python",
   "nbconvert_exporter": "python",
   "pygments_lexer": "ipython3",
   "version": "3.8.8"
  }
 },
 "nbformat": 4,
 "nbformat_minor": 5
}
