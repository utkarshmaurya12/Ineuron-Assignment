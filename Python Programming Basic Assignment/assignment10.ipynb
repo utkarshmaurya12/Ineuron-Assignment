{
 "cells": [
  {
   "cell_type": "code",
   "execution_count": 1,
   "id": "8268991a",
   "metadata": {},
   "outputs": [
    {
     "name": "stdout",
     "output_type": "stream",
     "text": [
      "19\n"
     ]
    }
   ],
   "source": [
    "1.\n",
    "a = [2,3,4,5,5]\n",
    "sum = 0\n",
    "for val in a:\n",
    "    sum += val\n",
    "print(sum)"
   ]
  },
  {
   "cell_type": "code",
   "execution_count": 2,
   "id": "3d178548",
   "metadata": {},
   "outputs": [
    {
     "name": "stdout",
     "output_type": "stream",
     "text": [
      "120\n"
     ]
    }
   ],
   "source": [
    "2.\n",
    "mul = 1\n",
    "a = [1,2,3,4,5]\n",
    "for val in a:\n",
    "    mul *= val\n",
    "print(mul)\n",
    "    "
   ]
  },
  {
   "cell_type": "code",
   "execution_count": 3,
   "id": "a2753f17",
   "metadata": {},
   "outputs": [
    {
     "name": "stdout",
     "output_type": "stream",
     "text": [
      "1\n"
     ]
    }
   ],
   "source": [
    "3.\n",
    "a= [5,2,3,4,1]\n",
    "small = a[0]\n",
    "for index in range(len(a)):\n",
    "    if a[index] < small:\n",
    "        small = a[index]\n",
    "print(small)"
   ]
  },
  {
   "cell_type": "code",
   "execution_count": 4,
   "id": "cb620fc1",
   "metadata": {},
   "outputs": [
    {
     "name": "stdout",
     "output_type": "stream",
     "text": [
      "6\n"
     ]
    }
   ],
   "source": [
    "4.\n",
    "a= [1,6,3,4,5]\n",
    "big = a[0]\n",
    "for index in range(len(a)):\n",
    "    if a[index] > big:\n",
    "        big = a[index]\n",
    "print(big)"
   ]
  },
  {
   "cell_type": "code",
   "execution_count": 5,
   "id": "140620d8",
   "metadata": {},
   "outputs": [
    {
     "name": "stdout",
     "output_type": "stream",
     "text": [
      "8\n"
     ]
    }
   ],
   "source": [
    "5.\n",
    "a = [5,6,1,2,8,10]\n",
    "largest = a[0]\n",
    "second_largest = a[0]\n",
    "for index in range(len(a)):\n",
    "    if a[index] > largest:\n",
    "        largest = a[index]\n",
    "for index in range(len(a)):\n",
    "    if a[index] > second_largest and a[index] != largest:\n",
    "        second_largest = a[index]\n",
    "print(second_largest)"
   ]
  },
  {
   "cell_type": "code",
   "execution_count": 6,
   "id": "a0ec04fb",
   "metadata": {},
   "outputs": [
    {
     "name": "stdout",
     "output_type": "stream",
     "text": [
      "Enter the value of n: 2\n",
      "[9, 10]\n"
     ]
    }
   ],
   "source": [
    "6.\n",
    "a = [2,9,3,5,7,10]\n",
    "n = int(input('Enter the value of n: '))\n",
    "a.sort()\n",
    "print(a[-n:])"
   ]
  },
  {
   "cell_type": "code",
   "execution_count": 7,
   "id": "41569d3a",
   "metadata": {},
   "outputs": [
    {
     "name": "stdout",
     "output_type": "stream",
     "text": [
      "8\n",
      "4\n",
      "2\n"
     ]
    }
   ],
   "source": [
    "7.\n",
    "a = [1,8,4,2,9,7]\n",
    "for even in a:\n",
    "    if even % 2 == 0:\n",
    "        print(even)"
   ]
  },
  {
   "cell_type": "code",
   "execution_count": 8,
   "id": "70c69504",
   "metadata": {},
   "outputs": [
    {
     "name": "stdout",
     "output_type": "stream",
     "text": [
      "1\n",
      "9\n",
      "7\n"
     ]
    }
   ],
   "source": [
    "8.\n",
    "a = [1,8,4,2,9,7]\n",
    "for odd in a:\n",
    "    if odd % 2 != 0:\n",
    "        print(odd)"
   ]
  },
  {
   "cell_type": "code",
   "execution_count": 9,
   "id": "bf4265ec",
   "metadata": {},
   "outputs": [
    {
     "name": "stdout",
     "output_type": "stream",
     "text": [
      "[2, 3, 6, 7, 8]\n"
     ]
    }
   ],
   "source": [
    "9.\n",
    "a= [2,3,[],6,7,8,[]]\n",
    "res = []\n",
    "for val in a:\n",
    "    if val != []:\n",
    "        res.append(val)\n",
    "print(res)"
   ]
  },
  {
   "cell_type": "code",
   "execution_count": 10,
   "id": "45ed1eec",
   "metadata": {},
   "outputs": [
    {
     "name": "stdout",
     "output_type": "stream",
     "text": [
      "[2, 4, 5, 6, 7, 1]\n"
     ]
    }
   ],
   "source": [
    "10.\n",
    "a = [2,4,5,6,7,1]\n",
    "b = a.copy()\n",
    "print(b)"
   ]
  },
  {
   "cell_type": "code",
   "execution_count": 11,
   "id": "2fefb223",
   "metadata": {},
   "outputs": [
    {
     "name": "stdout",
     "output_type": "stream",
     "text": [
      "Enter element you want to search: 5\n",
      "3\n"
     ]
    }
   ],
   "source": [
    "11.\n",
    "a = [1,5,4,5,2,3,5,6]\n",
    "ele = int(input('Enter element you want to search: '))\n",
    "count = 0\n",
    "for val in a:\n",
    "    if val == ele:\n",
    "        count += 1\n",
    "print(count)"
   ]
  },
  {
   "cell_type": "code",
   "execution_count": null,
   "id": "e4b82863",
   "metadata": {},
   "outputs": [],
   "source": []
  }
 ],
 "metadata": {
  "kernelspec": {
   "display_name": "Python 3",
   "language": "python",
   "name": "python3"
  },
  "language_info": {
   "codemirror_mode": {
    "name": "ipython",
    "version": 3
   },
   "file_extension": ".py",
   "mimetype": "text/x-python",
   "name": "python",
   "nbconvert_exporter": "python",
   "pygments_lexer": "ipython3",
   "version": "3.8.8"
  }
 },
 "nbformat": 4,
 "nbformat_minor": 5
}
