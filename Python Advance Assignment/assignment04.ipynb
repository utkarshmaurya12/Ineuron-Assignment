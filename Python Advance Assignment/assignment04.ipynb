{
 "cells": [
  {
   "cell_type": "code",
   "execution_count": 10,
   "id": "96d3c0a1",
   "metadata": {},
   "outputs": [
    {
     "data": {
      "text/plain": [
       "12586269025"
      ]
     },
     "execution_count": 10,
     "metadata": {},
     "output_type": "execute_result"
    }
   ],
   "source": [
    "1.\n",
    "def fib_fast(num):\n",
    "    fib = [0,1]\n",
    "    for i in range(2,num+1):\n",
    "        fib.append(fib[-1] + fib[-2])\n",
    "    return fib[num]\n",
    "fib_fast(50)"
   ]
  },
  {
   "cell_type": "code",
   "execution_count": 46,
   "id": "b700e6cf",
   "metadata": {},
   "outputs": [
    {
     "data": {
      "text/plain": [
       "'4d 61 72 74 79 20 50 6f 70 70 69 6e 73 6f 6e'"
      ]
     },
     "execution_count": 46,
     "metadata": {},
     "output_type": "execute_result"
    }
   ],
   "source": [
    "2.\n",
    "def convert_to_hex(word):\n",
    "    lst = []\n",
    "    for val in word:\n",
    "        code = val.encode('utf-8')\n",
    "        lst.append(code.hex())\n",
    "    return ' '.join(lst)\n",
    "    \n",
    "convert_to_hex('Marty Poppinson')\n",
    "    "
   ]
  },
  {
   "cell_type": "code",
   "execution_count": 4,
   "id": "a201835b",
   "metadata": {},
   "outputs": [
    {
     "data": {
      "text/plain": [
       "'abcd'"
      ]
     },
     "execution_count": 4,
     "metadata": {},
     "output_type": "execute_result"
    }
   ],
   "source": [
    "3.\n",
    "def uncensor(str1,vowel):\n",
    "    count = 0\n",
    "    lst = []\n",
    "    for i in range(len(str1)):\n",
    "        if str1[i] == '*':\n",
    "            lst.append(vowel[count])\n",
    "            count += 1\n",
    "        else:\n",
    "            lst.append(str1[i])\n",
    "    return ''.join(lst)\n",
    "\n",
    "uncensor(\"abcd\", \"\")\n"
   ]
  },
  {
   "cell_type": "code",
   "execution_count": 7,
   "id": "5c07de4d",
   "metadata": {},
   "outputs": [
    {
     "data": {
      "text/plain": [
       "'dns.google'"
      ]
     },
     "execution_count": 7,
     "metadata": {},
     "output_type": "execute_result"
    }
   ],
   "source": [
    "4.\n",
    "def get_domain(ip_address):\n",
    "    import socket\n",
    "    result=socket.gethostbyaddr(ip_address)\n",
    "    return list(result)[0]\n",
    "\n",
    "get_domain(\"8.8.4.4\")"
   ]
  },
  {
   "cell_type": "code",
   "execution_count": 12,
   "id": "4ddee1d2",
   "metadata": {},
   "outputs": [
    {
     "data": {
      "text/plain": [
       "34560"
      ]
     },
     "execution_count": 12,
     "metadata": {},
     "output_type": "execute_result"
    }
   ],
   "source": [
    "5.\n",
    "def fact_of_fact(n):\n",
    "    mul = 1\n",
    "    for i in range(1,n+1):\n",
    "        for j in range(1,i+1):\n",
    "            mul *= j\n",
    "    return mul\n",
    "fact_of_fact(5)"
   ]
  },
  {
   "cell_type": "code",
   "execution_count": null,
   "id": "cab627f8",
   "metadata": {},
   "outputs": [],
   "source": []
  },
  {
   "cell_type": "code",
   "execution_count": null,
   "id": "483e4c9f",
   "metadata": {},
   "outputs": [],
   "source": []
  }
 ],
 "metadata": {
  "kernelspec": {
   "display_name": "Python 3",
   "language": "python",
   "name": "python3"
  },
  "language_info": {
   "codemirror_mode": {
    "name": "ipython",
    "version": 3
   },
   "file_extension": ".py",
   "mimetype": "text/x-python",
   "name": "python",
   "nbconvert_exporter": "python",
   "pygments_lexer": "ipython3",
   "version": "3.8.8"
  }
 },
 "nbformat": 4,
 "nbformat_minor": 5
}
