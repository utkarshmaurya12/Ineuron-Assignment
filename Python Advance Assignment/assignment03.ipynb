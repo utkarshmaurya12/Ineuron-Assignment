{
 "cells": [
  {
   "cell_type": "markdown",
   "id": "0e4c7b78",
   "metadata": {},
   "source": [
    "1.\n",
    "An abstract superclass is like a blueprint for other classes. It allows you to create a set of methods that must be created within any child classes built from the abstract class. A class which contains one or more abstract methods is called an abstract class"
   ]
  },
  {
   "cell_type": "code",
   "execution_count": null,
   "id": "7b5d0d3c",
   "metadata": {},
   "outputs": [],
   "source": [
    "2.\n",
    "If the class statement consists of a basic assignment statement, it is considered as a class variable."
   ]
  },
  {
   "cell_type": "code",
   "execution_count": null,
   "id": "426468d0",
   "metadata": {},
   "outputs": [],
   "source": [
    "3.\n",
    "The main reason for always calling superclass _init__ is that superclass may typically create member variable and initialize\n",
    "them to defaults."
   ]
  },
  {
   "cell_type": "code",
   "execution_count": null,
   "id": "cf9f48f4",
   "metadata": {},
   "outputs": [],
   "source": [
    "4.\n",
    "A way to augment an inherited method involves forwarding. Message forwarding allows you to augment an inherited method in \n",
    "such a way that it can perform its inherited action and some new action.\n"
   ]
  },
  {
   "cell_type": "code",
   "execution_count": null,
   "id": "a5df1884",
   "metadata": {},
   "outputs": [],
   "source": [
    "5.\n",
    "Declaring a variable in a class,all class functions can access it.\n",
    "Declaring a variable inside a function,only that function can access it."
   ]
  }
 ],
 "metadata": {
  "kernelspec": {
   "display_name": "Python 3",
   "language": "python",
   "name": "python3"
  },
  "language_info": {
   "codemirror_mode": {
    "name": "ipython",
    "version": 3
   },
   "file_extension": ".py",
   "mimetype": "text/x-python",
   "name": "python",
   "nbconvert_exporter": "python",
   "pygments_lexer": "ipython3",
   "version": "3.8.8"
  }
 },
 "nbformat": 4,
 "nbformat_minor": 5
}
