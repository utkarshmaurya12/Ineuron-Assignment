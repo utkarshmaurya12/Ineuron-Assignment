{
 "cells": [
  {
   "cell_type": "code",
   "execution_count": null,
   "id": "7267191e",
   "metadata": {},
   "outputs": [],
   "source": [
    "1.\n",
    "Classes in python are templates for creating objects. They contain variables and functions which define the class objects.\n",
    "Modules are python programs that can be imported into another python program."
   ]
  },
  {
   "cell_type": "code",
   "execution_count": null,
   "id": "c4930ccf",
   "metadata": {},
   "outputs": [],
   "source": [
    "2.\n",
    "To create instances of a class, you call the class using class name and pass in whatever arguments its __init__ method accepts."
   ]
  },
  {
   "cell_type": "code",
   "execution_count": null,
   "id": "3744411a",
   "metadata": {},
   "outputs": [],
   "source": [
    "3.\n",
    "Class attributes belong to the class itself they will be shared by all the instances. Such attributes are defined in the class\n",
    "body parts usually at the top, for legibility. It should be created if a variable needs to be shared."
   ]
  },
  {
   "cell_type": "code",
   "execution_count": null,
   "id": "5e867f72",
   "metadata": {},
   "outputs": [],
   "source": [
    "4.\n",
    "Instance attributes are not shared by objects.They are defined in the constructor inside a class using the self parameter."
   ]
  },
  {
   "cell_type": "code",
   "execution_count": null,
   "id": "cce18752",
   "metadata": {},
   "outputs": [],
   "source": [
    "5.\n",
    "The self is used to represent the instance of the class. With this keyword, you can access the attributes and methods of the \n",
    "class in python. It acts as a pointer to the instance."
   ]
  },
  {
   "cell_type": "code",
   "execution_count": null,
   "id": "f351484a",
   "metadata": {},
   "outputs": [],
   "source": [
    "6.\n",
    "To perform operator overloading, Python provides some special function or magic function that is automatically invoked when it \n",
    "is associated with that particular operator."
   ]
  },
  {
   "cell_type": "code",
   "execution_count": null,
   "id": "5d404d8f",
   "metadata": {},
   "outputs": [],
   "source": [
    "7.\n",
    "Consider that we have two objects which are a physical representation of a class and we have to add two objects with \n",
    "binary '+' operator it throws an error, because compiler does not know how to add two objects. So we define a method \n",
    "for an operator and that process is called operator overloading"
   ]
  },
  {
   "cell_type": "code",
   "execution_count": null,
   "id": "6e7e220f",
   "metadata": {},
   "outputs": [],
   "source": [
    "8.\n",
    "A very popular example is the Addition (+) operator. The '+' operator operates on two numbers and the same operator operates on\n",
    "two strings. It performs “Addition” on numbers whereas it performs “Concatenation” on strings."
   ]
  },
  {
   "cell_type": "code",
   "execution_count": null,
   "id": "9ea6ae76",
   "metadata": {},
   "outputs": [],
   "source": [
    "9.\n",
    "Two key concepts of OOP are inheritance and polymorphism. Both inheritance and polymorphism are key ingredients for \n",
    "designing robust, flexible, and easy-to-maintain software."
   ]
  }
 ],
 "metadata": {
  "kernelspec": {
   "display_name": "Python 3 (ipykernel)",
   "language": "python",
   "name": "python3"
  },
  "language_info": {
   "codemirror_mode": {
    "name": "ipython",
    "version": 3
   },
   "file_extension": ".py",
   "mimetype": "text/x-python",
   "name": "python",
   "nbconvert_exporter": "python",
   "pygments_lexer": "ipython3",
   "version": "3.9.12"
  }
 },
 "nbformat": 4,
 "nbformat_minor": 5
}
