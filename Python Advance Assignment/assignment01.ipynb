{
 "cells": [
  {
   "cell_type": "code",
   "execution_count": 12,
   "id": "4fc76d3f",
   "metadata": {},
   "outputs": [
    {
     "data": {
      "text/plain": [
       "0"
      ]
     },
     "execution_count": 12,
     "metadata": {},
     "output_type": "execute_result"
    }
   ],
   "source": [
    "1.\n",
    "def check_score(symbol):\n",
    "    sym = {'#':5,'O': 3,'X': 1,'!': -1,'!!': -3,'!!!': -5}\n",
    "    add = 0\n",
    "    for ele in symbol:\n",
    "        for val in ele:\n",
    "            if val in sym:\n",
    "                add += sym[val]\n",
    "    if add > 0:\n",
    "        return add\n",
    "    else:\n",
    "        return 0\n",
    "\n",
    "check_score([['!!!', 'O','!'],['X','#', '!!!'],['!!', 'X', 'O']])        "
   ]
  },
  {
   "cell_type": "code",
   "execution_count": 19,
   "id": "763a0ec4",
   "metadata": {},
   "outputs": [
    {
     "data": {
      "text/plain": [
       "84"
      ]
     },
     "execution_count": 19,
     "metadata": {},
     "output_type": "execute_result"
    }
   ],
   "source": [
    "2.\n",
    "def combinations(*args):\n",
    "    mul = 1\n",
    "    for val in args:\n",
    "        mul *= val\n",
    "    return mul\n",
    "\n",
    "combinations(3,7,4)\n"
   ]
  },
  {
   "cell_type": "code",
   "execution_count": 22,
   "id": "ff56bba3",
   "metadata": {},
   "outputs": [
    {
     "data": {
      "text/plain": [
       "'.-...--...-.....- -.-......-.-...-...-.--..'"
      ]
     },
     "execution_count": 22,
     "metadata": {},
     "output_type": "execute_result"
    }
   ],
   "source": [
    "3.\n",
    "def encode_morse(word):\n",
    "    code = ''\n",
    "    char_to_dots = {\n",
    "          'A': '.-', 'B': '-...', 'C': '-.-.', 'D': '-..', 'E': '.', 'F': '..-.',\n",
    "          'G': '--.', 'H': '....', 'I': '..', 'J': '.---', 'K': '-.-', 'L': '.-..',\n",
    "          'M': '--', 'N': '-.', 'O': '---', 'P': '.--.', 'Q': '--.-', 'R': '.-.',\n",
    "          'S': '...', 'T': '-', 'U': '..-', 'V': '...-', 'W': '.--', 'X': '-..-',\n",
    "          'Y': '-.--', 'Z': '--..', ' ': ' ', '0': '-----',\n",
    "          '1': '.----', '2': '..---', '3': '...--', '4': '....-', '5': '.....',\n",
    "          '6': '-....', '7': '--...', '8': '---..', '9': '----.',\n",
    "          '&': '.-...', \"'\": '.----.', '@': '.--.-.', ')': '-.--.-', '(': '-.--.',\n",
    "          ':': '---...', ',': '--..--', '=': '-...-', '!': '-.-.--', '.': '.-.-.-',\n",
    "          '-': '-....-', '+': '.-.-.', '\"': '.-..-.', '?': '..--..', '/': '-..-.'\n",
    "    }\n",
    "    for letter in word:\n",
    "        if letter in char_to_dots:\n",
    "            code += char_to_dots[letter]\n",
    "    return code\n",
    "\n",
    "encode_morse(\"EDABBIT CHALLENGE\")\n"
   ]
  },
  {
   "cell_type": "code",
   "execution_count": 25,
   "id": "4a316ec3",
   "metadata": {},
   "outputs": [
    {
     "data": {
      "text/plain": [
       "False"
      ]
     },
     "execution_count": 25,
     "metadata": {},
     "output_type": "execute_result"
    }
   ],
   "source": [
    "4.\n",
    "import math\n",
    "def prime(number):\n",
    "    if number < 1:\n",
    "        return False\n",
    "    for i in range (2, int(math.sqrt(number))+1):\n",
    "        if number % i == 0:\n",
    "            return False\n",
    "    return True\n",
    "\n",
    "prime(5151512515524)"
   ]
  },
  {
   "cell_type": "code",
   "execution_count": 32,
   "id": "4df5b4f8",
   "metadata": {},
   "outputs": [
    {
     "data": {
      "text/plain": [
       "[False, True, False, True, True]"
      ]
     },
     "execution_count": 32,
     "metadata": {},
     "output_type": "execute_result"
    }
   ],
   "source": [
    "5.\n",
    "import string\n",
    "def to_boolean_list(word):\n",
    "    lst = []\n",
    "    for letter in word:\n",
    "        pos = string.ascii_lowercase.index(letter)+1\n",
    "        if pos%2!=0:\n",
    "            lst.append(True)\n",
    "        else:\n",
    "            lst.append(False)\n",
    "    return lst\n",
    "\n",
    "to_boolean_list('loves')"
   ]
  },
  {
   "cell_type": "code",
   "execution_count": null,
   "id": "e539fa22",
   "metadata": {},
   "outputs": [],
   "source": []
  }
 ],
 "metadata": {
  "kernelspec": {
   "display_name": "Python 3",
   "language": "python",
   "name": "python3"
  },
  "language_info": {
   "codemirror_mode": {
    "name": "ipython",
    "version": 3
   },
   "file_extension": ".py",
   "mimetype": "text/x-python",
   "name": "python",
   "nbconvert_exporter": "python",
   "pygments_lexer": "ipython3",
   "version": "3.8.8"
  }
 },
 "nbformat": 4,
 "nbformat_minor": 5
}
