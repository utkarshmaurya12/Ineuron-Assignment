{
 "cells": [
  {
   "cell_type": "code",
   "execution_count": null,
   "id": "e8e411f2",
   "metadata": {},
   "outputs": [],
   "source": [
    "1.\n",
    "In Python, object-oriented Programming (OOPs) is a programming paradigm that uses objects and classes in programming.\n",
    "It aims to implement real-world entities like inheritance, polymorphisms, encapsulation, etc. in the programming. \n",
    "The main concept of OOPs is to bind the data and the functions that work on that together as a single unit so that no other \n",
    "part of the code can access this data.The concept of OOP in Python focuses on creating reusable code."
   ]
  },
  {
   "cell_type": "code",
   "execution_count": null,
   "id": "dafc6526",
   "metadata": {},
   "outputs": [],
   "source": [
    "2.\n",
    "If an attribute is not found in the class itself, the search continues to the base class. This repeats recursively, \n",
    "if the base class is itself derived from other classes."
   ]
  },
  {
   "cell_type": "code",
   "execution_count": null,
   "id": "165ab408",
   "metadata": {},
   "outputs": [],
   "source": [
    "3.\n",
    "Class variables affect the entire class. Thus, when a class variable is updated, all the instances are updated.\n",
    "\n",
    "Instance variables take unique values for each instance. We assign the values for them when creating the instance.\n",
    "\n",
    "All the instances take the same value for class variables at first but we can update them for an instance later on. \n",
    "The changes we make on an instance do not affect the value of class variables for other instances."
   ]
  },
  {
   "cell_type": "code",
   "execution_count": null,
   "id": "da1ac001",
   "metadata": {},
   "outputs": [],
   "source": [
    "4.\n",
    "The first parameter of methods is the instance the method is called on.The reason you need to use self,\n",
    "is because Python does not use the @ syntax to refer to instance attributes."
   ]
  },
  {
   "cell_type": "code",
   "execution_count": null,
   "id": "1c6ae663",
   "metadata": {},
   "outputs": [],
   "source": [
    "5.\n",
    "The __init__ method is the Python equivalent of the C++ constructor in an object-oriented approach.\n",
    "The __init__ function is called every time an object is created from a class."
   ]
  },
  {
   "cell_type": "code",
   "execution_count": null,
   "id": "86a828ac",
   "metadata": {},
   "outputs": [],
   "source": [
    "6.\n",
    "Call ClassName() to create a new instance of the class ClassName."
   ]
  },
  {
   "cell_type": "code",
   "execution_count": null,
   "id": "d0309260",
   "metadata": {},
   "outputs": [],
   "source": [
    "7.\n",
    "A class can be created using the keyword 'class'."
   ]
  },
  {
   "cell_type": "code",
   "execution_count": null,
   "id": "deda4641",
   "metadata": {},
   "outputs": [],
   "source": [
    "8.\n",
    "A superclass is the class from which many subclasses can be created. The subclasses inherit the characteristics of a superclass.\n",
    "The superclass is also known as the parent class or base class."
   ]
  }
 ],
 "metadata": {
  "kernelspec": {
   "display_name": "Python 3 (ipykernel)",
   "language": "python",
   "name": "python3"
  },
  "language_info": {
   "codemirror_mode": {
    "name": "ipython",
    "version": 3
   },
   "file_extension": ".py",
   "mimetype": "text/x-python",
   "name": "python",
   "nbconvert_exporter": "python",
   "pygments_lexer": "ipython3",
   "version": "3.9.12"
  }
 },
 "nbformat": 4,
 "nbformat_minor": 5
}
