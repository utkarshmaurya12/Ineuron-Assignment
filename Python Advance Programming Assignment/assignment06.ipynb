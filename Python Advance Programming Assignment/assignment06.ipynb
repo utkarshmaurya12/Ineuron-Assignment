{
 "cells": [
  {
   "cell_type": "code",
   "execution_count": 4,
   "id": "804d0908",
   "metadata": {},
   "outputs": [
    {
     "data": {
      "text/plain": [
       "'y'"
      ]
     },
     "execution_count": 4,
     "metadata": {},
     "output_type": "execute_result"
    }
   ],
   "source": [
    "1.\n",
    "def find_the_difference(str1,str2):\n",
    "    c = 0\n",
    "    for cs in str1:\n",
    "        c ^= ord(cs) \n",
    "    for ct in str2: \n",
    "        c ^= ord(ct)\n",
    "    return chr(c)\n",
    "find_the_difference('','y')\n",
    "    "
   ]
  },
  {
   "cell_type": "code",
   "execution_count": 16,
   "id": "fddd735c",
   "metadata": {},
   "outputs": [
    {
     "data": {
      "text/plain": [
       "[2, 2, 3, 1, 0, 2]"
      ]
     },
     "execution_count": 16,
     "metadata": {},
     "output_type": "execute_result"
    }
   ],
   "source": [
    "2.\n",
    "def count_datatypes(*args):\n",
    "    lst = []\n",
    "    lst1 = []\n",
    "    for types in args:\n",
    "        lst.append(type(types))\n",
    "    lst1.append(lst.count(int))\n",
    "    lst1.append(lst.count(str))\n",
    "    lst1.append(lst.count(bool))\n",
    "    lst1.append(lst.count(list))\n",
    "    lst1.append(lst.count(tuple))\n",
    "    lst1.append(lst.count(dict))\n",
    "    return lst1\n",
    "\n",
    "count_datatypes(\"Hello\", \"Bye\", True, True, False, {\"1\": \"One\", \"2\": \"Two\"}, [1, 3], {\"Brayan\": 18}, 25, 23)"
   ]
  },
  {
   "cell_type": "code",
   "execution_count": 31,
   "id": "2f7b3730",
   "metadata": {},
   "outputs": [
    {
     "name": "stdout",
     "output_type": "stream",
     "text": [
      "e a ae aea aeaae "
     ]
    }
   ],
   "source": [
    "3.\n",
    "def fib_str(loc,lst):\n",
    "    for i in range(2,loc):\n",
    "        next_num = lst[-1] + lst[-2]\n",
    "        lst.append(next_num)\n",
    "    for j in lst:\n",
    "        yield j\n",
    "for k in fib_str(5,['e','a']):\n",
    "    print(k + \" \",end = '')"
   ]
  },
  {
   "cell_type": "code",
   "execution_count": 52,
   "id": "e2099b0f",
   "metadata": {},
   "outputs": [
    {
     "data": {
      "text/plain": [
       "'nines:1,threes:0,ones:1'"
      ]
     },
     "execution_count": 52,
     "metadata": {},
     "output_type": "execute_result"
    }
   ],
   "source": [
    "4.\n",
    "def ones_threes_nines(num):\n",
    "    lst = []\n",
    "    nines = num // 9\n",
    "    threes = (num%9) // 3\n",
    "    ones = num % 3\n",
    "    lst.append(nines)\n",
    "    lst.append(threes)\n",
    "    lst.append(ones)\n",
    "    for i in lst:\n",
    "        return f\"nines:{lst[0]},threes:{lst[1]},ones:{lst[2]}\"\n",
    "\n",
    "ones_threes_nines(10)    \n",
    "    "
   ]
  },
  {
   "cell_type": "code",
   "execution_count": 44,
   "id": "0dcfa149",
   "metadata": {},
   "outputs": [
    {
     "data": {
      "text/plain": [
       "2"
      ]
     },
     "execution_count": 44,
     "metadata": {},
     "output_type": "execute_result"
    }
   ],
   "source": [
    "5.\n",
    "def fib(num):\n",
    "    seq = [1,1]\n",
    "    for i in range(2,num):\n",
    "        next_num = seq[-1] + seq[-2]\n",
    "        seq.append(next_num)\n",
    "    return seq[-1]\n",
    "\n",
    "fib(3)"
   ]
  },
  {
   "cell_type": "code",
   "execution_count": null,
   "id": "68c0f879",
   "metadata": {},
   "outputs": [],
   "source": []
  }
 ],
 "metadata": {
  "kernelspec": {
   "display_name": "Python 3",
   "language": "python",
   "name": "python3"
  },
  "language_info": {
   "codemirror_mode": {
    "name": "ipython",
    "version": 3
   },
   "file_extension": ".py",
   "mimetype": "text/x-python",
   "name": "python",
   "nbconvert_exporter": "python",
   "pygments_lexer": "ipython3",
   "version": "3.8.8"
  }
 },
 "nbformat": 4,
 "nbformat_minor": 5
}
