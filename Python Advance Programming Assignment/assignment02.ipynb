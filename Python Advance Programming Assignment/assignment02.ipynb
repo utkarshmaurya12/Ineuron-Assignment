{
 "cells": [
  {
   "cell_type": "code",
   "execution_count": 27,
   "id": "5e953378",
   "metadata": {},
   "outputs": [
    {
     "data": {
      "text/plain": [
       "6"
      ]
     },
     "execution_count": 27,
     "metadata": {},
     "output_type": "execute_result"
    }
   ],
   "source": [
    "1.\n",
    "def pentagonal(num):\n",
    "    if num == 1:\n",
    "        return 1\n",
    "    elif num == 0:\n",
    "        return 0\n",
    "    else:\n",
    "        return  5*(num-1)+penatagonal(num-1)\n",
    "    \n",
    "pentagonal(2)\n"
   ]
  },
  {
   "cell_type": "code",
   "execution_count": 7,
   "id": "550f133d",
   "metadata": {},
   "outputs": [
    {
     "data": {
      "text/plain": [
       "'0n0n0baca'"
      ]
     },
     "execution_count": 7,
     "metadata": {},
     "output_type": "execute_result"
    }
   ],
   "source": [
    "2.\n",
    "def encrypt(word):\n",
    "    enc_word = ''\n",
    "    word = word[::-1]\n",
    "    cypher = {'a':0,'e':1,'i':2,'o':2,'u':3}\n",
    "    for letter in word:\n",
    "        if letter in cypher:\n",
    "            enc_word += str(cypher[letter])\n",
    "        else:\n",
    "            enc_word += letter\n",
    "    enc_word = enc_word + 'aca'\n",
    "    return enc_word\n",
    "\n",
    "encrypt('banana')"
   ]
  },
  {
   "cell_type": "code",
   "execution_count": 31,
   "id": "6a99eff1",
   "metadata": {},
   "outputs": [
    {
     "data": {
      "text/plain": [
       "False"
      ]
     },
     "execution_count": 31,
     "metadata": {},
     "output_type": "execute_result"
    }
   ],
   "source": [
    "3.\n",
    "import datetime\n",
    "def has_friday_13(month,year):  \n",
    "    return True if datetime.datetime.strptime('13 '+' '+str(month)+' '+str(year), '%d %m %Y').weekday()==4 else False\n",
    "\n",
    "has_friday_13(1,1985)\n",
    "    "
   ]
  },
  {
   "cell_type": "code",
   "execution_count": 44,
   "id": "54bf9449",
   "metadata": {},
   "outputs": [
    {
     "data": {
      "text/plain": [
       "2"
      ]
     },
     "execution_count": 44,
     "metadata": {},
     "output_type": "execute_result"
    }
   ],
   "source": [
    "4.\n",
    "import re\n",
    "lst = ['bad cookie','good cookie','bad cookie','good cookie','good cookie']\n",
    "len(re.findall(\"bad*\",','.join(lst)))"
   ]
  },
  {
   "cell_type": "code",
   "execution_count": 22,
   "id": "88bd02d6",
   "metadata": {},
   "outputs": [
    {
     "data": {
      "text/plain": [
       "{'arm', 'chair', 'pencil'}"
      ]
     },
     "execution_count": 22,
     "metadata": {},
     "output_type": "execute_result"
    }
   ],
   "source": [
    "5.\n",
    "def pluralize(lst):\n",
    "    singular = set()\n",
    "    for words in lst:\n",
    "        if lst.count(words) > 1:\n",
    "            words = words +'s'\n",
    "            singular.add(words)\n",
    "        else:\n",
    "            singular.add(words)\n",
    "    return singular\n",
    "\n",
    "pluralize(['chair','pencil','arm'])\n",
    "            \n",
    "    "
   ]
  },
  {
   "cell_type": "code",
   "execution_count": null,
   "id": "d9aeeb38",
   "metadata": {},
   "outputs": [],
   "source": []
  }
 ],
 "metadata": {
  "kernelspec": {
   "display_name": "Python 3",
   "language": "python",
   "name": "python3"
  },
  "language_info": {
   "codemirror_mode": {
    "name": "ipython",
    "version": 3
   },
   "file_extension": ".py",
   "mimetype": "text/x-python",
   "name": "python",
   "nbconvert_exporter": "python",
   "pygments_lexer": "ipython3",
   "version": "3.8.8"
  }
 },
 "nbformat": 4,
 "nbformat_minor": 5
}
